{
 "cells": [
  {
   "cell_type": "markdown",
   "metadata": {},
   "source": [
    "## Pipeline neural net"
   ]
  },
  {
   "cell_type": "markdown",
   "metadata": {},
   "source": [
    "### Data Loading"
   ]
  },
  {
   "cell_type": "code",
   "execution_count": 7,
   "metadata": {},
   "outputs": [],
   "source": [
    "import pandas as pd\n",
    "\n",
    "df = pd.read_csv('misc/fuel_consumption.csv')\n",
    "X = df[['YEAR', 'CYLINDERS', 'ENGINE SIZE', 'FUEL CONSUMPTION']]\n",
    "y = df['COMB (L/100 km)']"
   ]
  },
  {
   "cell_type": "markdown",
   "metadata": {},
   "source": [
    "### Data splitting"
   ]
  },
  {
   "cell_type": "code",
   "execution_count": 12,
   "metadata": {},
   "outputs": [],
   "source": [
    "from sklearn.model_selection import train_test_split\n",
    "\n",
    "# Supposons que X soit vos données et y soit vos étiquettes\n",
    "X_temp, X_test, y_temp, y_test = train_test_split(X, y, test_size=0.2, random_state=42)\n",
    "\n",
    "# Ensuite, divisez à nouveau X_temp et y_temp pour obtenir l'ensemble d'entraînement et l'ensemble de validation\n",
    "X_train, X_val, y_train, y_val = train_test_split(X_temp, y_temp, test_size=0.25, random_state=42)"
   ]
  },
  {
   "cell_type": "markdown",
   "metadata": {},
   "source": [
    "### Model definition"
   ]
  },
  {
   "cell_type": "code",
   "execution_count": 16,
   "metadata": {},
   "outputs": [],
   "source": [
    "from tensorflow.keras.models import Sequential\n",
    "from tensorflow.keras.layers import Dense, Dropout\n",
    "from tensorflow.keras.regularizers import l2\n",
    "from tensorflow.keras.initializers import HeNormal\n",
    "\n",
    "# Créer un modèle séquentiel\n",
    "model = Sequential()\n",
    "\n",
    "# Ajouter la couche d'entrée et la première couche cachée avec régularisation L2 et initialisation He\n",
    "model.add(Dense(units=32, activation='relu', kernel_regularizer=l2(0.01), kernel_initializer=HeNormal(), input_dim=X_train.shape[1]))\n",
    "\n",
    "# Ajouter une autre couche cachée\n",
    "model.add(Dense(units=16, activation='relu', kernel_regularizer=l2(0.01), kernel_initializer=HeNormal()))\n",
    "\n",
    "# Ajouter une couche de dropout pour éviter le surapprentissage\n",
    "model.add(Dropout(0.5))\n",
    "\n",
    "# Ajouter la couche de sortie\n",
    "model.add(Dense(units=1, activation='sigmoid'))"
   ]
  },
  {
   "cell_type": "markdown",
   "metadata": {},
   "source": [
    "### Model initialisation"
   ]
  },
  {
   "cell_type": "code",
   "execution_count": 17,
   "metadata": {},
   "outputs": [],
   "source": [
    "# Compiler le modèle\n",
    "model.compile(optimizer='adam', loss='binary_crossentropy', metrics=['accuracy'])"
   ]
  },
  {
   "cell_type": "markdown",
   "metadata": {},
   "source": [
    "### Model training"
   ]
  },
  {
   "cell_type": "code",
   "execution_count": 18,
   "metadata": {},
   "outputs": [
    {
     "name": "stdout",
     "output_type": "stream",
     "text": [
      "Epoch 1/10\n",
      "423/423 [==============================] - 7s 17ms/step - loss: -268077.7500 - accuracy: 0.0000e+00 - val_loss: -934041.6875 - val_accuracy: 0.0000e+00\n",
      "Epoch 2/10\n",
      "423/423 [==============================] - 7s 17ms/step - loss: -3340361.5000 - accuracy: 0.0000e+00 - val_loss: -6895358.0000 - val_accuracy: 0.0000e+00\n",
      "Epoch 3/10\n",
      "423/423 [==============================] - 7s 16ms/step - loss: -13310226.0000 - accuracy: 0.0000e+00 - val_loss: -21202704.0000 - val_accuracy: 0.0000e+00\n",
      "Epoch 4/10\n",
      "423/423 [==============================] - 7s 16ms/step - loss: -32832194.0000 - accuracy: 0.0000e+00 - val_loss: -46093768.0000 - val_accuracy: 0.0000e+00\n",
      "Epoch 5/10\n",
      "423/423 [==============================] - 8s 18ms/step - loss: -64017544.0000 - accuracy: 0.0000e+00 - val_loss: -83361576.0000 - val_accuracy: 0.0000e+00\n",
      "Epoch 6/10\n",
      "423/423 [==============================] - 9s 20ms/step - loss: -108271408.0000 - accuracy: 0.0000e+00 - val_loss: -134229536.0000 - val_accuracy: 0.0000e+00\n",
      "Epoch 7/10\n",
      "423/423 [==============================] - 11s 26ms/step - loss: -166577696.0000 - accuracy: 0.0000e+00 - val_loss: -199546304.0000 - val_accuracy: 0.0000e+00\n",
      "Epoch 8/10\n",
      "423/423 [==============================] - 8s 19ms/step - loss: -240100144.0000 - accuracy: 0.0000e+00 - val_loss: -280174688.0000 - val_accuracy: 0.0000e+00\n",
      "Epoch 9/10\n",
      "423/423 [==============================] - 7s 17ms/step - loss: -329900224.0000 - accuracy: 0.0000e+00 - val_loss: -376728512.0000 - val_accuracy: 0.0000e+00\n",
      "Epoch 10/10\n",
      "423/423 [==============================] - 7s 18ms/step - loss: -434624224.0000 - accuracy: 0.0000e+00 - val_loss: -489645952.0000 - val_accuracy: 0.0000e+00\n"
     ]
    }
   ],
   "source": [
    "# Entraîner le modèle\n",
    "history = model.fit(X_train, y_train, epochs=10, batch_size=32, validation_data=(X_val, y_val))"
   ]
  },
  {
   "cell_type": "markdown",
   "metadata": {},
   "source": [
    "### Model evaluation"
   ]
  },
  {
   "cell_type": "code",
   "execution_count": 19,
   "metadata": {},
   "outputs": [
    {
     "name": "stdout",
     "output_type": "stream",
     "text": [
      "141/141 [==============================] - 1s 10ms/step - loss: -491080544.0000 - accuracy: 0.0000e+00\n"
     ]
    }
   ],
   "source": [
    "test_loss, test_accuracy = model.evaluate(X_test, y_test)"
   ]
  },
  {
   "cell_type": "markdown",
   "metadata": {},
   "source": [
    "### Model prediction"
   ]
  },
  {
   "cell_type": "code",
   "execution_count": 21,
   "metadata": {},
   "outputs": [
    {
     "name": "stdout",
     "output_type": "stream",
     "text": [
      "141/141 [==============================] - 0s 2ms/step\n"
     ]
    },
    {
     "data": {
      "text/plain": [
       "array([[1.],\n",
       "       [1.],\n",
       "       [1.],\n",
       "       ...,\n",
       "       [1.],\n",
       "       [1.],\n",
       "       [1.]], dtype=float32)"
      ]
     },
     "execution_count": 21,
     "metadata": {},
     "output_type": "execute_result"
    }
   ],
   "source": [
    "predictions = model.predict(X_test)\n",
    "predictions"
   ]
  },
  {
   "cell_type": "markdown",
   "metadata": {},
   "source": [
    "### Model saving"
   ]
  },
  {
   "cell_type": "code",
   "execution_count": 23,
   "metadata": {},
   "outputs": [],
   "source": [
    "model.save('misc/tf_model.keras')"
   ]
  },
  {
   "cell_type": "code",
   "execution_count": null,
   "metadata": {},
   "outputs": [],
   "source": []
  }
 ],
 "metadata": {
  "kernelspec": {
   "display_name": "DataChallenge2023",
   "language": "python",
   "name": "python3"
  },
  "language_info": {
   "codemirror_mode": {
    "name": "ipython",
    "version": 3
   },
   "file_extension": ".py",
   "mimetype": "text/x-python",
   "name": "python",
   "nbconvert_exporter": "python",
   "pygments_lexer": "ipython3",
   "version": "3.11.5"
  }
 },
 "nbformat": 4,
 "nbformat_minor": 2
}
