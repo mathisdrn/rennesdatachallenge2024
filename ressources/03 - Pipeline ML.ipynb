{
 "cells": [
  {
   "cell_type": "markdown",
   "metadata": {},
   "source": [
    "## Standard ML pipeline"
   ]
  },
  {
   "cell_type": "markdown",
   "metadata": {},
   "source": [
    "### Dummy data "
   ]
  },
  {
   "cell_type": "code",
   "execution_count": 1,
   "metadata": {},
   "outputs": [
    {
     "name": "stdout",
     "output_type": "stream",
     "text": [
      "    a  b          c       d  target\n",
      "0   9  1  category2  value1       0\n",
      "1   4  1  category1  value1       1\n",
      "2   9  8  category2  value1       1\n",
      "3   7  1  category1  value2       0\n",
      "4   6  6  category2  value1       0\n",
      ".. .. ..        ...     ...     ...\n",
      "95  1  3  category2  value1       0\n",
      "96  2  8  category2  value1       1\n",
      "97  9  3  category2  value2       0\n",
      "98  7  8  category2  value2       1\n",
      "99  5  8  category1  value2       1\n",
      "\n",
      "[100 rows x 5 columns]\n"
     ]
    }
   ],
   "source": [
    "import pandas as pd\n",
    "import numpy as np\n",
    "\n",
    "data = {\n",
    "    'a': np.random.randint(1, 10, size=100),\n",
    "    'b': np.random.randint(1, 10, size=100),\n",
    "    'c': np.random.choice(['category1', 'category2'], size=100),\n",
    "    'd': np.random.choice(['value1', 'value2'], size=100),\n",
    "    'target': np.random.randint(0, 2, size=100)\n",
    "}\n",
    "\n",
    "df = pd.DataFrame(data)\n",
    "\n",
    "print(df)\n",
    "\n",
    "df.to_csv('misc/file.csv', index=False)"
   ]
  },
  {
   "cell_type": "markdown",
   "metadata": {},
   "source": [
    "### Loading data"
   ]
  },
  {
   "cell_type": "code",
   "execution_count": 2,
   "metadata": {},
   "outputs": [],
   "source": [
    "import pandas as pd\n",
    "import numpy as np\n",
    "\n",
    "df = pd.read_csv('misc/file.csv')\n",
    "\n",
    "Y = df['target']\n",
    "X = df.drop(['target'], axis=1)"
   ]
  },
  {
   "cell_type": "markdown",
   "metadata": {},
   "source": [
    "### Preprocessing"
   ]
  },
  {
   "cell_type": "code",
   "execution_count": 3,
   "metadata": {},
   "outputs": [],
   "source": [
    "from sklearn.pipeline import Pipeline\n",
    "from sklearn.compose import ColumnTransformer\n",
    "from sklearn.model_selection import train_test_split"
   ]
  },
  {
   "cell_type": "code",
   "execution_count": 4,
   "metadata": {},
   "outputs": [],
   "source": [
    "def check_data(df):\n",
    "    print(f'Shape of the dataset : {df.shape}')\n",
    "    # Count missing values for each column where count > 0\n",
    "    if df.isna().sum().sum() > 0:\n",
    "        print(df.isna().sum()[df.isna().sum() > 0])"
   ]
  },
  {
   "cell_type": "markdown",
   "metadata": {},
   "source": [
    "#### Outlier"
   ]
  },
  {
   "cell_type": "code",
   "execution_count": 5,
   "metadata": {},
   "outputs": [
    {
     "data": {
      "application/vnd.jupyter.widget-view+json": {
       "model_id": "0b0ae30fa41141b5969229192d00bae5",
       "version_major": 2,
       "version_minor": 0
      },
      "text/plain": [
       "interactive(children=(Dropdown(description='column', options=('a', 'b', 'c', 'd', 'target'), value='a'), Outpu…"
      ]
     },
     "metadata": {},
     "output_type": "display_data"
    },
    {
     "data": {
      "text/plain": [
       "<function __main__.plot(column)>"
      ]
     },
     "execution_count": 5,
     "metadata": {},
     "output_type": "execute_result"
    }
   ],
   "source": [
    "from ipywidgets import interact\n",
    "import seaborn as sns\n",
    "import matplotlib.pyplot as plt\n",
    "\n",
    "def plot(column):\n",
    "    if df[column].dtype in ['int64', 'float64']:\n",
    "        sns.boxplot(x=df[column])\n",
    "    else:\n",
    "        sns.countplot(x=df[column])\n",
    "    plt.show()\n",
    "\n",
    "interact(plot, column=df.columns.tolist())"
   ]
  },
  {
   "cell_type": "code",
   "execution_count": 6,
   "metadata": {},
   "outputs": [
    {
     "name": "stdout",
     "output_type": "stream",
     "text": [
      "Removing 0 outliers from column a\n",
      "Removing 0 outliers from column b\n"
     ]
    }
   ],
   "source": [
    "from sklearn.base import BaseEstimator, TransformerMixin\n",
    "\n",
    "class OutlierRemover(BaseEstimator, TransformerMixin):\n",
    "    def __init__(self, columns_factors, verbose=False):\n",
    "        self.columns_factors = columns_factors\n",
    "        self.verbose = verbose\n",
    "\n",
    "    def fit(self, X, y=None):\n",
    "        self.iqr_ranges_ = {}\n",
    "        for col, factor in self.columns_factors.items():\n",
    "            Q1 = X[col].quantile(0.25)\n",
    "            Q3 = X[col].quantile(0.75)\n",
    "            IQR = Q3 - Q1\n",
    "            self.iqr_ranges_[col] = (Q1 - factor * IQR, Q3 + factor * IQR)\n",
    "        return self\n",
    "\n",
    "    def transform(self, X, y=None):\n",
    "        X_out = X.copy()\n",
    "        for col, factor in self.columns_factors.items():\n",
    "            low, high = self.iqr_ranges_[col]\n",
    "            outliers = X_out[(X_out[col] < low) | (X_out[col] > high)]\n",
    "            if self.verbose:\n",
    "                print(f\"Removing {len(outliers)} outliers from column {col}\")\n",
    "            X_out = X_out[(X_out[col] >= low) & (X_out[col] <= high)]\n",
    "        return X_out\n",
    "  \n",
    "# Parameters (1.5 is recommended factor)\n",
    "outlier_dict = {\n",
    "    'a': 1.5,\n",
    "    'b': 1.5\n",
    "}\n",
    "\n",
    "# Execute outlier to see how many row will be affected\n",
    "OutlierRemover(columns_factors = outlier_dict, verbose = True).fit_transform(X)\n",
    "\n",
    "outlier_remover = OutlierRemover(columns_factors = outlier_dict)"
   ]
  },
  {
   "cell_type": "markdown",
   "metadata": {},
   "source": [
    "#### Missing data\n",
    "\n",
    "- DropNA, KNNImputer or IterativeImputer"
   ]
  },
  {
   "cell_type": "code",
   "execution_count": 7,
   "metadata": {},
   "outputs": [
    {
     "name": "stdout",
     "output_type": "stream",
     "text": [
      "[]\n"
     ]
    }
   ],
   "source": [
    "from sklearn.experimental import enable_iterative_imputer\n",
    "from sklearn.impute import KNNImputer, IterativeImputer\n",
    "from sklearn.compose import ColumnTransformer\n",
    "import pandas as pd\n",
    "\n",
    "# Get all col containing missing values\n",
    "na_cols = [col for col in df.columns if df[col].isna().sum() > 0]\n",
    "\n",
    "imputer = ColumnTransformer(\n",
    "    transformers=[\n",
    "        ('imputer', IterativeImputer(random_state=0), na_cols)\n",
    "    ]\n",
    ")\n",
    "\n",
    "print(na_cols)\n"
   ]
  },
  {
   "cell_type": "markdown",
   "metadata": {},
   "source": [
    "#### Numerical data\n",
    "- PCA\n",
    "- StandardScaler"
   ]
  },
  {
   "cell_type": "code",
   "execution_count": 8,
   "metadata": {},
   "outputs": [],
   "source": [
    "from sklearn.preprocessing import StandardScaler\n",
    "from sklearn.decomposition import PCA"
   ]
  },
  {
   "cell_type": "code",
   "execution_count": 9,
   "metadata": {},
   "outputs": [
    {
     "data": {
      "text/plain": [
       "['a', 'b']"
      ]
     },
     "execution_count": 9,
     "metadata": {},
     "output_type": "execute_result"
    }
   ],
   "source": [
    "X.select_dtypes(include=['int64', 'float64']).columns.tolist()"
   ]
  },
  {
   "cell_type": "code",
   "execution_count": 10,
   "metadata": {},
   "outputs": [
    {
     "name": "stdout",
     "output_type": "stream",
     "text": [
      "Numeric columns : ['a', 'b']\n"
     ]
    }
   ],
   "source": [
    "numeric_columns = X.select_dtypes(include=['int64', 'float64']).columns.tolist()\n",
    "print(f'Numeric columns : {numeric_columns}')"
   ]
  },
  {
   "cell_type": "code",
   "execution_count": 11,
   "metadata": {},
   "outputs": [],
   "source": [
    "num_pipeline = ColumnTransformer(\n",
    "    transformers=[\n",
    "    ('scaler', StandardScaler(), numeric_columns), \n",
    "    ('pca', PCA(n_components=0.95), numeric_columns) \n",
    "])"
   ]
  },
  {
   "cell_type": "markdown",
   "metadata": {},
   "source": [
    "#### Categorical data\n",
    "\n",
    "- One-hot encoding\n",
    "- Ordinal encoding\n"
   ]
  },
  {
   "cell_type": "code",
   "execution_count": 12,
   "metadata": {},
   "outputs": [],
   "source": [
    "from sklearn.preprocessing import OrdinalEncoder, OneHotEncoder\n",
    "\n",
    "# Définir les colonnes pour chaque transformation\n",
    "one_hot_cols = ['c', 'd']\n",
    "ordinal_cols = []\n",
    "\n",
    "# Créer le transformateur de colonnes\n",
    "cat_pipeline = ColumnTransformer(\n",
    "    transformers=[\n",
    "        ('one_hot', OneHotEncoder(), one_hot_cols),\n",
    "        ('ordinal', OrdinalEncoder(), ordinal_cols)\n",
    "    ])"
   ]
  },
  {
   "cell_type": "markdown",
   "metadata": {},
   "source": [
    "#### Preprocessing pipeline "
   ]
  },
  {
   "cell_type": "code",
   "execution_count": 13,
   "metadata": {},
   "outputs": [
    {
     "data": {
      "text/html": [
       "<style>#sk-container-id-1 {color: black;background-color: white;}#sk-container-id-1 pre{padding: 0;}#sk-container-id-1 div.sk-toggleable {background-color: white;}#sk-container-id-1 label.sk-toggleable__label {cursor: pointer;display: block;width: 100%;margin-bottom: 0;padding: 0.3em;box-sizing: border-box;text-align: center;}#sk-container-id-1 label.sk-toggleable__label-arrow:before {content: \"▸\";float: left;margin-right: 0.25em;color: #696969;}#sk-container-id-1 label.sk-toggleable__label-arrow:hover:before {color: black;}#sk-container-id-1 div.sk-estimator:hover label.sk-toggleable__label-arrow:before {color: black;}#sk-container-id-1 div.sk-toggleable__content {max-height: 0;max-width: 0;overflow: hidden;text-align: left;background-color: #f0f8ff;}#sk-container-id-1 div.sk-toggleable__content pre {margin: 0.2em;color: black;border-radius: 0.25em;background-color: #f0f8ff;}#sk-container-id-1 input.sk-toggleable__control:checked~div.sk-toggleable__content {max-height: 200px;max-width: 100%;overflow: auto;}#sk-container-id-1 input.sk-toggleable__control:checked~label.sk-toggleable__label-arrow:before {content: \"▾\";}#sk-container-id-1 div.sk-estimator input.sk-toggleable__control:checked~label.sk-toggleable__label {background-color: #d4ebff;}#sk-container-id-1 div.sk-label input.sk-toggleable__control:checked~label.sk-toggleable__label {background-color: #d4ebff;}#sk-container-id-1 input.sk-hidden--visually {border: 0;clip: rect(1px 1px 1px 1px);clip: rect(1px, 1px, 1px, 1px);height: 1px;margin: -1px;overflow: hidden;padding: 0;position: absolute;width: 1px;}#sk-container-id-1 div.sk-estimator {font-family: monospace;background-color: #f0f8ff;border: 1px dotted black;border-radius: 0.25em;box-sizing: border-box;margin-bottom: 0.5em;}#sk-container-id-1 div.sk-estimator:hover {background-color: #d4ebff;}#sk-container-id-1 div.sk-parallel-item::after {content: \"\";width: 100%;border-bottom: 1px solid gray;flex-grow: 1;}#sk-container-id-1 div.sk-label:hover label.sk-toggleable__label {background-color: #d4ebff;}#sk-container-id-1 div.sk-serial::before {content: \"\";position: absolute;border-left: 1px solid gray;box-sizing: border-box;top: 0;bottom: 0;left: 50%;z-index: 0;}#sk-container-id-1 div.sk-serial {display: flex;flex-direction: column;align-items: center;background-color: white;padding-right: 0.2em;padding-left: 0.2em;position: relative;}#sk-container-id-1 div.sk-item {position: relative;z-index: 1;}#sk-container-id-1 div.sk-parallel {display: flex;align-items: stretch;justify-content: center;background-color: white;position: relative;}#sk-container-id-1 div.sk-item::before, #sk-container-id-1 div.sk-parallel-item::before {content: \"\";position: absolute;border-left: 1px solid gray;box-sizing: border-box;top: 0;bottom: 0;left: 50%;z-index: -1;}#sk-container-id-1 div.sk-parallel-item {display: flex;flex-direction: column;z-index: 1;position: relative;background-color: white;}#sk-container-id-1 div.sk-parallel-item:first-child::after {align-self: flex-end;width: 50%;}#sk-container-id-1 div.sk-parallel-item:last-child::after {align-self: flex-start;width: 50%;}#sk-container-id-1 div.sk-parallel-item:only-child::after {width: 0;}#sk-container-id-1 div.sk-dashed-wrapped {border: 1px dashed gray;margin: 0 0.4em 0.5em 0.4em;box-sizing: border-box;padding-bottom: 0.4em;background-color: white;}#sk-container-id-1 div.sk-label label {font-family: monospace;font-weight: bold;display: inline-block;line-height: 1.2em;}#sk-container-id-1 div.sk-label-container {text-align: center;}#sk-container-id-1 div.sk-container {/* jupyter's `normalize.less` sets `[hidden] { display: none; }` but bootstrap.min.css set `[hidden] { display: none !important; }` so we also need the `!important` here to be able to override the default hidden behavior on the sphinx rendered scikit-learn.org. See: https://github.com/scikit-learn/scikit-learn/issues/21755 */display: inline-block !important;position: relative;}#sk-container-id-1 div.sk-text-repr-fallback {display: none;}</style><div id=\"sk-container-id-1\" class=\"sk-top-container\"><div class=\"sk-text-repr-fallback\"><pre>ColumnTransformer(transformers=[(&#x27;outlier&#x27;,\n",
       "                                 OutlierRemover(columns_factors={&#x27;a&#x27;: 1.5,\n",
       "                                                                 &#x27;b&#x27;: 1.5}),\n",
       "                                 [&#x27;a&#x27;, &#x27;b&#x27;]),\n",
       "                                (&#x27;imputer&#x27;,\n",
       "                                 ColumnTransformer(transformers=[(&#x27;imputer&#x27;,\n",
       "                                                                  IterativeImputer(random_state=0),\n",
       "                                                                  [])]),\n",
       "                                 []),\n",
       "                                (&#x27;num&#x27;,\n",
       "                                 ColumnTransformer(transformers=[(&#x27;scaler&#x27;,\n",
       "                                                                  StandardScaler(),\n",
       "                                                                  [&#x27;a&#x27;, &#x27;b&#x27;]),\n",
       "                                                                 (&#x27;pca&#x27;,\n",
       "                                                                  PCA(n_components=0.95),\n",
       "                                                                  [&#x27;a&#x27;, &#x27;b&#x27;])]),\n",
       "                                 [&#x27;a&#x27;, &#x27;b&#x27;]),\n",
       "                                (&#x27;cat&#x27;,\n",
       "                                 ColumnTransformer(transformers=[(&#x27;one_hot&#x27;,\n",
       "                                                                  OneHotEncoder(),\n",
       "                                                                  [&#x27;c&#x27;, &#x27;d&#x27;]),\n",
       "                                                                 (&#x27;ordinal&#x27;,\n",
       "                                                                  OrdinalEncoder(),\n",
       "                                                                  [])]),\n",
       "                                 [&#x27;c&#x27;, &#x27;d&#x27;])])</pre><b>In a Jupyter environment, please rerun this cell to show the HTML representation or trust the notebook. <br />On GitHub, the HTML representation is unable to render, please try loading this page with nbviewer.org.</b></div><div class=\"sk-container\" hidden><div class=\"sk-item sk-dashed-wrapped\"><div class=\"sk-label-container\"><div class=\"sk-label sk-toggleable\"><input class=\"sk-toggleable__control sk-hidden--visually\" id=\"sk-estimator-id-1\" type=\"checkbox\" ><label for=\"sk-estimator-id-1\" class=\"sk-toggleable__label sk-toggleable__label-arrow\">ColumnTransformer</label><div class=\"sk-toggleable__content\"><pre>ColumnTransformer(transformers=[(&#x27;outlier&#x27;,\n",
       "                                 OutlierRemover(columns_factors={&#x27;a&#x27;: 1.5,\n",
       "                                                                 &#x27;b&#x27;: 1.5}),\n",
       "                                 [&#x27;a&#x27;, &#x27;b&#x27;]),\n",
       "                                (&#x27;imputer&#x27;,\n",
       "                                 ColumnTransformer(transformers=[(&#x27;imputer&#x27;,\n",
       "                                                                  IterativeImputer(random_state=0),\n",
       "                                                                  [])]),\n",
       "                                 []),\n",
       "                                (&#x27;num&#x27;,\n",
       "                                 ColumnTransformer(transformers=[(&#x27;scaler&#x27;,\n",
       "                                                                  StandardScaler(),\n",
       "                                                                  [&#x27;a&#x27;, &#x27;b&#x27;]),\n",
       "                                                                 (&#x27;pca&#x27;,\n",
       "                                                                  PCA(n_components=0.95),\n",
       "                                                                  [&#x27;a&#x27;, &#x27;b&#x27;])]),\n",
       "                                 [&#x27;a&#x27;, &#x27;b&#x27;]),\n",
       "                                (&#x27;cat&#x27;,\n",
       "                                 ColumnTransformer(transformers=[(&#x27;one_hot&#x27;,\n",
       "                                                                  OneHotEncoder(),\n",
       "                                                                  [&#x27;c&#x27;, &#x27;d&#x27;]),\n",
       "                                                                 (&#x27;ordinal&#x27;,\n",
       "                                                                  OrdinalEncoder(),\n",
       "                                                                  [])]),\n",
       "                                 [&#x27;c&#x27;, &#x27;d&#x27;])])</pre></div></div></div><div class=\"sk-parallel\"><div class=\"sk-parallel-item\"><div class=\"sk-item\"><div class=\"sk-label-container\"><div class=\"sk-label sk-toggleable\"><input class=\"sk-toggleable__control sk-hidden--visually\" id=\"sk-estimator-id-2\" type=\"checkbox\" ><label for=\"sk-estimator-id-2\" class=\"sk-toggleable__label sk-toggleable__label-arrow\">outlier</label><div class=\"sk-toggleable__content\"><pre>[&#x27;a&#x27;, &#x27;b&#x27;]</pre></div></div></div><div class=\"sk-serial\"><div class=\"sk-item\"><div class=\"sk-estimator sk-toggleable\"><input class=\"sk-toggleable__control sk-hidden--visually\" id=\"sk-estimator-id-3\" type=\"checkbox\" ><label for=\"sk-estimator-id-3\" class=\"sk-toggleable__label sk-toggleable__label-arrow\">OutlierRemover</label><div class=\"sk-toggleable__content\"><pre>OutlierRemover(columns_factors={&#x27;a&#x27;: 1.5, &#x27;b&#x27;: 1.5})</pre></div></div></div></div></div></div><div class=\"sk-parallel-item\"><div class=\"sk-item\"><div class=\"sk-label-container\"><div class=\"sk-label sk-toggleable\"><input class=\"sk-toggleable__control sk-hidden--visually\" id=\"sk-estimator-id-4\" type=\"checkbox\" ><label for=\"sk-estimator-id-4\" class=\"sk-toggleable__label sk-toggleable__label-arrow\">imputer</label><div class=\"sk-toggleable__content\"><pre>[]</pre></div></div></div><div class=\"sk-serial\"><div class=\"sk-item sk-dashed-wrapped\"><div class=\"sk-parallel\"><div class=\"sk-parallel-item\"><div class=\"sk-item\"><div class=\"sk-label-container\"><div class=\"sk-label sk-toggleable\"><input class=\"sk-toggleable__control sk-hidden--visually\" id=\"sk-estimator-id-5\" type=\"checkbox\" ><label for=\"sk-estimator-id-5\" class=\"sk-toggleable__label sk-toggleable__label-arrow\">imputer</label><div class=\"sk-toggleable__content\"><pre>[]</pre></div></div></div><div class=\"sk-serial\"><div class=\"sk-item\"><div class=\"sk-estimator sk-toggleable\"><input class=\"sk-toggleable__control sk-hidden--visually\" id=\"sk-estimator-id-6\" type=\"checkbox\" ><label for=\"sk-estimator-id-6\" class=\"sk-toggleable__label sk-toggleable__label-arrow\">IterativeImputer</label><div class=\"sk-toggleable__content\"><pre>IterativeImputer(random_state=0)</pre></div></div></div></div></div></div></div></div></div></div></div><div class=\"sk-parallel-item\"><div class=\"sk-item\"><div class=\"sk-label-container\"><div class=\"sk-label sk-toggleable\"><input class=\"sk-toggleable__control sk-hidden--visually\" id=\"sk-estimator-id-7\" type=\"checkbox\" ><label for=\"sk-estimator-id-7\" class=\"sk-toggleable__label sk-toggleable__label-arrow\">num</label><div class=\"sk-toggleable__content\"><pre>[&#x27;a&#x27;, &#x27;b&#x27;]</pre></div></div></div><div class=\"sk-serial\"><div class=\"sk-item sk-dashed-wrapped\"><div class=\"sk-parallel\"><div class=\"sk-parallel-item\"><div class=\"sk-item\"><div class=\"sk-label-container\"><div class=\"sk-label sk-toggleable\"><input class=\"sk-toggleable__control sk-hidden--visually\" id=\"sk-estimator-id-8\" type=\"checkbox\" ><label for=\"sk-estimator-id-8\" class=\"sk-toggleable__label sk-toggleable__label-arrow\">scaler</label><div class=\"sk-toggleable__content\"><pre>[&#x27;a&#x27;, &#x27;b&#x27;]</pre></div></div></div><div class=\"sk-serial\"><div class=\"sk-item\"><div class=\"sk-estimator sk-toggleable\"><input class=\"sk-toggleable__control sk-hidden--visually\" id=\"sk-estimator-id-9\" type=\"checkbox\" ><label for=\"sk-estimator-id-9\" class=\"sk-toggleable__label sk-toggleable__label-arrow\">StandardScaler</label><div class=\"sk-toggleable__content\"><pre>StandardScaler()</pre></div></div></div></div></div></div><div class=\"sk-parallel-item\"><div class=\"sk-item\"><div class=\"sk-label-container\"><div class=\"sk-label sk-toggleable\"><input class=\"sk-toggleable__control sk-hidden--visually\" id=\"sk-estimator-id-10\" type=\"checkbox\" ><label for=\"sk-estimator-id-10\" class=\"sk-toggleable__label sk-toggleable__label-arrow\">pca</label><div class=\"sk-toggleable__content\"><pre>[&#x27;a&#x27;, &#x27;b&#x27;]</pre></div></div></div><div class=\"sk-serial\"><div class=\"sk-item\"><div class=\"sk-estimator sk-toggleable\"><input class=\"sk-toggleable__control sk-hidden--visually\" id=\"sk-estimator-id-11\" type=\"checkbox\" ><label for=\"sk-estimator-id-11\" class=\"sk-toggleable__label sk-toggleable__label-arrow\">PCA</label><div class=\"sk-toggleable__content\"><pre>PCA(n_components=0.95)</pre></div></div></div></div></div></div></div></div></div></div></div><div class=\"sk-parallel-item\"><div class=\"sk-item\"><div class=\"sk-label-container\"><div class=\"sk-label sk-toggleable\"><input class=\"sk-toggleable__control sk-hidden--visually\" id=\"sk-estimator-id-12\" type=\"checkbox\" ><label for=\"sk-estimator-id-12\" class=\"sk-toggleable__label sk-toggleable__label-arrow\">cat</label><div class=\"sk-toggleable__content\"><pre>[&#x27;c&#x27;, &#x27;d&#x27;]</pre></div></div></div><div class=\"sk-serial\"><div class=\"sk-item sk-dashed-wrapped\"><div class=\"sk-parallel\"><div class=\"sk-parallel-item\"><div class=\"sk-item\"><div class=\"sk-label-container\"><div class=\"sk-label sk-toggleable\"><input class=\"sk-toggleable__control sk-hidden--visually\" id=\"sk-estimator-id-13\" type=\"checkbox\" ><label for=\"sk-estimator-id-13\" class=\"sk-toggleable__label sk-toggleable__label-arrow\">one_hot</label><div class=\"sk-toggleable__content\"><pre>[&#x27;c&#x27;, &#x27;d&#x27;]</pre></div></div></div><div class=\"sk-serial\"><div class=\"sk-item\"><div class=\"sk-estimator sk-toggleable\"><input class=\"sk-toggleable__control sk-hidden--visually\" id=\"sk-estimator-id-14\" type=\"checkbox\" ><label for=\"sk-estimator-id-14\" class=\"sk-toggleable__label sk-toggleable__label-arrow\">OneHotEncoder</label><div class=\"sk-toggleable__content\"><pre>OneHotEncoder()</pre></div></div></div></div></div></div><div class=\"sk-parallel-item\"><div class=\"sk-item\"><div class=\"sk-label-container\"><div class=\"sk-label sk-toggleable\"><input class=\"sk-toggleable__control sk-hidden--visually\" id=\"sk-estimator-id-15\" type=\"checkbox\" ><label for=\"sk-estimator-id-15\" class=\"sk-toggleable__label sk-toggleable__label-arrow\">ordinal</label><div class=\"sk-toggleable__content\"><pre>[]</pre></div></div></div><div class=\"sk-serial\"><div class=\"sk-item\"><div class=\"sk-estimator sk-toggleable\"><input class=\"sk-toggleable__control sk-hidden--visually\" id=\"sk-estimator-id-16\" type=\"checkbox\" ><label for=\"sk-estimator-id-16\" class=\"sk-toggleable__label sk-toggleable__label-arrow\">OrdinalEncoder</label><div class=\"sk-toggleable__content\"><pre>OrdinalEncoder()</pre></div></div></div></div></div></div></div></div></div></div></div></div></div></div></div>"
      ],
      "text/plain": [
       "ColumnTransformer(transformers=[('outlier',\n",
       "                                 OutlierRemover(columns_factors={'a': 1.5,\n",
       "                                                                 'b': 1.5}),\n",
       "                                 ['a', 'b']),\n",
       "                                ('imputer',\n",
       "                                 ColumnTransformer(transformers=[('imputer',\n",
       "                                                                  IterativeImputer(random_state=0),\n",
       "                                                                  [])]),\n",
       "                                 []),\n",
       "                                ('num',\n",
       "                                 ColumnTransformer(transformers=[('scaler',\n",
       "                                                                  StandardScaler(),\n",
       "                                                                  ['a', 'b']),\n",
       "                                                                 ('pca',\n",
       "                                                                  PCA(n_components=0.95),\n",
       "                                                                  ['a', 'b'])]),\n",
       "                                 ['a', 'b']),\n",
       "                                ('cat',\n",
       "                                 ColumnTransformer(transformers=[('one_hot',\n",
       "                                                                  OneHotEncoder(),\n",
       "                                                                  ['c', 'd']),\n",
       "                                                                 ('ordinal',\n",
       "                                                                  OrdinalEncoder(),\n",
       "                                                                  [])]),\n",
       "                                 ['c', 'd'])])"
      ]
     },
     "execution_count": 13,
     "metadata": {},
     "output_type": "execute_result"
    }
   ],
   "source": [
    "# Build preprocessing pipeline\n",
    "preprocessor = ColumnTransformer(\n",
    "    transformers=[\n",
    "        ('outlier', outlier_remover, list(outlier_dict.keys())),\n",
    "        ('imputer', imputer, na_cols),\n",
    "        ('num', num_pipeline, numeric_columns),\n",
    "        ('cat', cat_pipeline, one_hot_cols)\n",
    "    ])\n",
    "\n",
    "# Check for errors in preprocessing\n",
    "preprocessor.fit(X)"
   ]
  },
  {
   "cell_type": "markdown",
   "metadata": {},
   "source": [
    "#### Splitting dataset"
   ]
  },
  {
   "cell_type": "code",
   "execution_count": 14,
   "metadata": {},
   "outputs": [],
   "source": [
    "X_train, X_test, y_train, y_test = train_test_split(X, Y, test_size=0.3, random_state=42)"
   ]
  },
  {
   "cell_type": "markdown",
   "metadata": {},
   "source": [
    "### Model training"
   ]
  },
  {
   "cell_type": "code",
   "execution_count": 15,
   "metadata": {},
   "outputs": [],
   "source": [
    "from sklearn.model_selection import GridSearchCV\n",
    "from sklearn.ensemble import GradientBoostingRegressor, RandomForestRegressor"
   ]
  },
  {
   "cell_type": "code",
   "execution_count": 16,
   "metadata": {},
   "outputs": [
    {
     "data": {
      "text/html": [
       "<style>#sk-container-id-2 {color: black;background-color: white;}#sk-container-id-2 pre{padding: 0;}#sk-container-id-2 div.sk-toggleable {background-color: white;}#sk-container-id-2 label.sk-toggleable__label {cursor: pointer;display: block;width: 100%;margin-bottom: 0;padding: 0.3em;box-sizing: border-box;text-align: center;}#sk-container-id-2 label.sk-toggleable__label-arrow:before {content: \"▸\";float: left;margin-right: 0.25em;color: #696969;}#sk-container-id-2 label.sk-toggleable__label-arrow:hover:before {color: black;}#sk-container-id-2 div.sk-estimator:hover label.sk-toggleable__label-arrow:before {color: black;}#sk-container-id-2 div.sk-toggleable__content {max-height: 0;max-width: 0;overflow: hidden;text-align: left;background-color: #f0f8ff;}#sk-container-id-2 div.sk-toggleable__content pre {margin: 0.2em;color: black;border-radius: 0.25em;background-color: #f0f8ff;}#sk-container-id-2 input.sk-toggleable__control:checked~div.sk-toggleable__content {max-height: 200px;max-width: 100%;overflow: auto;}#sk-container-id-2 input.sk-toggleable__control:checked~label.sk-toggleable__label-arrow:before {content: \"▾\";}#sk-container-id-2 div.sk-estimator input.sk-toggleable__control:checked~label.sk-toggleable__label {background-color: #d4ebff;}#sk-container-id-2 div.sk-label input.sk-toggleable__control:checked~label.sk-toggleable__label {background-color: #d4ebff;}#sk-container-id-2 input.sk-hidden--visually {border: 0;clip: rect(1px 1px 1px 1px);clip: rect(1px, 1px, 1px, 1px);height: 1px;margin: -1px;overflow: hidden;padding: 0;position: absolute;width: 1px;}#sk-container-id-2 div.sk-estimator {font-family: monospace;background-color: #f0f8ff;border: 1px dotted black;border-radius: 0.25em;box-sizing: border-box;margin-bottom: 0.5em;}#sk-container-id-2 div.sk-estimator:hover {background-color: #d4ebff;}#sk-container-id-2 div.sk-parallel-item::after {content: \"\";width: 100%;border-bottom: 1px solid gray;flex-grow: 1;}#sk-container-id-2 div.sk-label:hover label.sk-toggleable__label {background-color: #d4ebff;}#sk-container-id-2 div.sk-serial::before {content: \"\";position: absolute;border-left: 1px solid gray;box-sizing: border-box;top: 0;bottom: 0;left: 50%;z-index: 0;}#sk-container-id-2 div.sk-serial {display: flex;flex-direction: column;align-items: center;background-color: white;padding-right: 0.2em;padding-left: 0.2em;position: relative;}#sk-container-id-2 div.sk-item {position: relative;z-index: 1;}#sk-container-id-2 div.sk-parallel {display: flex;align-items: stretch;justify-content: center;background-color: white;position: relative;}#sk-container-id-2 div.sk-item::before, #sk-container-id-2 div.sk-parallel-item::before {content: \"\";position: absolute;border-left: 1px solid gray;box-sizing: border-box;top: 0;bottom: 0;left: 50%;z-index: -1;}#sk-container-id-2 div.sk-parallel-item {display: flex;flex-direction: column;z-index: 1;position: relative;background-color: white;}#sk-container-id-2 div.sk-parallel-item:first-child::after {align-self: flex-end;width: 50%;}#sk-container-id-2 div.sk-parallel-item:last-child::after {align-self: flex-start;width: 50%;}#sk-container-id-2 div.sk-parallel-item:only-child::after {width: 0;}#sk-container-id-2 div.sk-dashed-wrapped {border: 1px dashed gray;margin: 0 0.4em 0.5em 0.4em;box-sizing: border-box;padding-bottom: 0.4em;background-color: white;}#sk-container-id-2 div.sk-label label {font-family: monospace;font-weight: bold;display: inline-block;line-height: 1.2em;}#sk-container-id-2 div.sk-label-container {text-align: center;}#sk-container-id-2 div.sk-container {/* jupyter's `normalize.less` sets `[hidden] { display: none; }` but bootstrap.min.css set `[hidden] { display: none !important; }` so we also need the `!important` here to be able to override the default hidden behavior on the sphinx rendered scikit-learn.org. See: https://github.com/scikit-learn/scikit-learn/issues/21755 */display: inline-block !important;position: relative;}#sk-container-id-2 div.sk-text-repr-fallback {display: none;}</style><div id=\"sk-container-id-2\" class=\"sk-top-container\"><div class=\"sk-text-repr-fallback\"><pre>GridSearchCV(cv=5,\n",
       "             estimator=Pipeline(steps=[(&#x27;preprocessor&#x27;,\n",
       "                                        ColumnTransformer(transformers=[(&#x27;outlier&#x27;,\n",
       "                                                                         OutlierRemover(columns_factors={&#x27;a&#x27;: 1.5,\n",
       "                                                                                                         &#x27;b&#x27;: 1.5}),\n",
       "                                                                         [&#x27;a&#x27;,\n",
       "                                                                          &#x27;b&#x27;]),\n",
       "                                                                        (&#x27;imputer&#x27;,\n",
       "                                                                         ColumnTransformer(transformers=[(&#x27;imputer&#x27;,\n",
       "                                                                                                          IterativeImputer(random_state=0),\n",
       "                                                                                                          [])]),\n",
       "                                                                         []),\n",
       "                                                                        (&#x27;num&#x27;,\n",
       "                                                                         ColumnTransformer(transformers=[(&#x27;scaler&#x27;,\n",
       "                                                                                                          StandardScaler(),\n",
       "                                                                                                          [&#x27;a&#x27;,\n",
       "                                                                                                           &#x27;b&#x27;]),\n",
       "                                                                                                         (&#x27;pca&#x27;,\n",
       "                                                                                                          PCA(n...\n",
       "                                                                                                          OrdinalEncoder(),\n",
       "                                                                                                          [])]),\n",
       "                                                                         [&#x27;c&#x27;,\n",
       "                                                                          &#x27;d&#x27;])])),\n",
       "                                       (&#x27;regressor&#x27;, None)]),\n",
       "             param_grid=[{&#x27;regressor&#x27;: [GradientBoostingRegressor(max_depth=10,\n",
       "                                                                  n_estimators=2)],\n",
       "                          &#x27;regressor__max_depth&#x27;: [2, 3, 5, 10, 20, 40],\n",
       "                          &#x27;regressor__n_estimators&#x27;: [2, 3, 5, 10, 30]},\n",
       "                         {&#x27;regressor&#x27;: [RandomForestRegressor()],\n",
       "                          &#x27;regressor__max_depth&#x27;: [2, 3, 5, 10, 20, 40],\n",
       "                          &#x27;regressor__n_estimators&#x27;: [2, 3, 5, 10, 30]}],\n",
       "             scoring=&#x27;r2&#x27;)</pre><b>In a Jupyter environment, please rerun this cell to show the HTML representation or trust the notebook. <br />On GitHub, the HTML representation is unable to render, please try loading this page with nbviewer.org.</b></div><div class=\"sk-container\" hidden><div class=\"sk-item sk-dashed-wrapped\"><div class=\"sk-label-container\"><div class=\"sk-label sk-toggleable\"><input class=\"sk-toggleable__control sk-hidden--visually\" id=\"sk-estimator-id-17\" type=\"checkbox\" ><label for=\"sk-estimator-id-17\" class=\"sk-toggleable__label sk-toggleable__label-arrow\">GridSearchCV</label><div class=\"sk-toggleable__content\"><pre>GridSearchCV(cv=5,\n",
       "             estimator=Pipeline(steps=[(&#x27;preprocessor&#x27;,\n",
       "                                        ColumnTransformer(transformers=[(&#x27;outlier&#x27;,\n",
       "                                                                         OutlierRemover(columns_factors={&#x27;a&#x27;: 1.5,\n",
       "                                                                                                         &#x27;b&#x27;: 1.5}),\n",
       "                                                                         [&#x27;a&#x27;,\n",
       "                                                                          &#x27;b&#x27;]),\n",
       "                                                                        (&#x27;imputer&#x27;,\n",
       "                                                                         ColumnTransformer(transformers=[(&#x27;imputer&#x27;,\n",
       "                                                                                                          IterativeImputer(random_state=0),\n",
       "                                                                                                          [])]),\n",
       "                                                                         []),\n",
       "                                                                        (&#x27;num&#x27;,\n",
       "                                                                         ColumnTransformer(transformers=[(&#x27;scaler&#x27;,\n",
       "                                                                                                          StandardScaler(),\n",
       "                                                                                                          [&#x27;a&#x27;,\n",
       "                                                                                                           &#x27;b&#x27;]),\n",
       "                                                                                                         (&#x27;pca&#x27;,\n",
       "                                                                                                          PCA(n...\n",
       "                                                                                                          OrdinalEncoder(),\n",
       "                                                                                                          [])]),\n",
       "                                                                         [&#x27;c&#x27;,\n",
       "                                                                          &#x27;d&#x27;])])),\n",
       "                                       (&#x27;regressor&#x27;, None)]),\n",
       "             param_grid=[{&#x27;regressor&#x27;: [GradientBoostingRegressor(max_depth=10,\n",
       "                                                                  n_estimators=2)],\n",
       "                          &#x27;regressor__max_depth&#x27;: [2, 3, 5, 10, 20, 40],\n",
       "                          &#x27;regressor__n_estimators&#x27;: [2, 3, 5, 10, 30]},\n",
       "                         {&#x27;regressor&#x27;: [RandomForestRegressor()],\n",
       "                          &#x27;regressor__max_depth&#x27;: [2, 3, 5, 10, 20, 40],\n",
       "                          &#x27;regressor__n_estimators&#x27;: [2, 3, 5, 10, 30]}],\n",
       "             scoring=&#x27;r2&#x27;)</pre></div></div></div><div class=\"sk-parallel\"><div class=\"sk-parallel-item\"><div class=\"sk-item\"><div class=\"sk-label-container\"><div class=\"sk-label sk-toggleable\"><input class=\"sk-toggleable__control sk-hidden--visually\" id=\"sk-estimator-id-18\" type=\"checkbox\" ><label for=\"sk-estimator-id-18\" class=\"sk-toggleable__label sk-toggleable__label-arrow\">estimator: Pipeline</label><div class=\"sk-toggleable__content\"><pre>Pipeline(steps=[(&#x27;preprocessor&#x27;,\n",
       "                 ColumnTransformer(transformers=[(&#x27;outlier&#x27;,\n",
       "                                                  OutlierRemover(columns_factors={&#x27;a&#x27;: 1.5,\n",
       "                                                                                  &#x27;b&#x27;: 1.5}),\n",
       "                                                  [&#x27;a&#x27;, &#x27;b&#x27;]),\n",
       "                                                 (&#x27;imputer&#x27;,\n",
       "                                                  ColumnTransformer(transformers=[(&#x27;imputer&#x27;,\n",
       "                                                                                   IterativeImputer(random_state=0),\n",
       "                                                                                   [])]),\n",
       "                                                  []),\n",
       "                                                 (&#x27;num&#x27;,\n",
       "                                                  ColumnTransformer(transformers=[(&#x27;scaler&#x27;,\n",
       "                                                                                   StandardScaler(),\n",
       "                                                                                   [&#x27;a&#x27;,\n",
       "                                                                                    &#x27;b&#x27;]),\n",
       "                                                                                  (&#x27;pca&#x27;,\n",
       "                                                                                   PCA(n_components=0.95),\n",
       "                                                                                   [&#x27;a&#x27;,\n",
       "                                                                                    &#x27;b&#x27;])]),\n",
       "                                                  [&#x27;a&#x27;, &#x27;b&#x27;]),\n",
       "                                                 (&#x27;cat&#x27;,\n",
       "                                                  ColumnTransformer(transformers=[(&#x27;one_hot&#x27;,\n",
       "                                                                                   OneHotEncoder(),\n",
       "                                                                                   [&#x27;c&#x27;,\n",
       "                                                                                    &#x27;d&#x27;]),\n",
       "                                                                                  (&#x27;ordinal&#x27;,\n",
       "                                                                                   OrdinalEncoder(),\n",
       "                                                                                   [])]),\n",
       "                                                  [&#x27;c&#x27;, &#x27;d&#x27;])])),\n",
       "                (&#x27;regressor&#x27;, None)])</pre></div></div></div><div class=\"sk-serial\"><div class=\"sk-item\"><div class=\"sk-serial\"><div class=\"sk-item sk-dashed-wrapped\"><div class=\"sk-label-container\"><div class=\"sk-label sk-toggleable\"><input class=\"sk-toggleable__control sk-hidden--visually\" id=\"sk-estimator-id-19\" type=\"checkbox\" ><label for=\"sk-estimator-id-19\" class=\"sk-toggleable__label sk-toggleable__label-arrow\">preprocessor: ColumnTransformer</label><div class=\"sk-toggleable__content\"><pre>ColumnTransformer(transformers=[(&#x27;outlier&#x27;,\n",
       "                                 OutlierRemover(columns_factors={&#x27;a&#x27;: 1.5,\n",
       "                                                                 &#x27;b&#x27;: 1.5}),\n",
       "                                 [&#x27;a&#x27;, &#x27;b&#x27;]),\n",
       "                                (&#x27;imputer&#x27;,\n",
       "                                 ColumnTransformer(transformers=[(&#x27;imputer&#x27;,\n",
       "                                                                  IterativeImputer(random_state=0),\n",
       "                                                                  [])]),\n",
       "                                 []),\n",
       "                                (&#x27;num&#x27;,\n",
       "                                 ColumnTransformer(transformers=[(&#x27;scaler&#x27;,\n",
       "                                                                  StandardScaler(),\n",
       "                                                                  [&#x27;a&#x27;, &#x27;b&#x27;]),\n",
       "                                                                 (&#x27;pca&#x27;,\n",
       "                                                                  PCA(n_components=0.95),\n",
       "                                                                  [&#x27;a&#x27;, &#x27;b&#x27;])]),\n",
       "                                 [&#x27;a&#x27;, &#x27;b&#x27;]),\n",
       "                                (&#x27;cat&#x27;,\n",
       "                                 ColumnTransformer(transformers=[(&#x27;one_hot&#x27;,\n",
       "                                                                  OneHotEncoder(),\n",
       "                                                                  [&#x27;c&#x27;, &#x27;d&#x27;]),\n",
       "                                                                 (&#x27;ordinal&#x27;,\n",
       "                                                                  OrdinalEncoder(),\n",
       "                                                                  [])]),\n",
       "                                 [&#x27;c&#x27;, &#x27;d&#x27;])])</pre></div></div></div><div class=\"sk-parallel\"><div class=\"sk-parallel-item\"><div class=\"sk-item\"><div class=\"sk-label-container\"><div class=\"sk-label sk-toggleable\"><input class=\"sk-toggleable__control sk-hidden--visually\" id=\"sk-estimator-id-20\" type=\"checkbox\" ><label for=\"sk-estimator-id-20\" class=\"sk-toggleable__label sk-toggleable__label-arrow\">outlier</label><div class=\"sk-toggleable__content\"><pre>[&#x27;a&#x27;, &#x27;b&#x27;]</pre></div></div></div><div class=\"sk-serial\"><div class=\"sk-item\"><div class=\"sk-estimator sk-toggleable\"><input class=\"sk-toggleable__control sk-hidden--visually\" id=\"sk-estimator-id-21\" type=\"checkbox\" ><label for=\"sk-estimator-id-21\" class=\"sk-toggleable__label sk-toggleable__label-arrow\">OutlierRemover</label><div class=\"sk-toggleable__content\"><pre>OutlierRemover(columns_factors={&#x27;a&#x27;: 1.5, &#x27;b&#x27;: 1.5})</pre></div></div></div></div></div></div><div class=\"sk-parallel-item\"><div class=\"sk-item\"><div class=\"sk-label-container\"><div class=\"sk-label sk-toggleable\"><input class=\"sk-toggleable__control sk-hidden--visually\" id=\"sk-estimator-id-22\" type=\"checkbox\" ><label for=\"sk-estimator-id-22\" class=\"sk-toggleable__label sk-toggleable__label-arrow\">imputer</label><div class=\"sk-toggleable__content\"><pre>[]</pre></div></div></div><div class=\"sk-serial\"><div class=\"sk-item sk-dashed-wrapped\"><div class=\"sk-parallel\"><div class=\"sk-parallel-item\"><div class=\"sk-item\"><div class=\"sk-label-container\"><div class=\"sk-label sk-toggleable\"><input class=\"sk-toggleable__control sk-hidden--visually\" id=\"sk-estimator-id-23\" type=\"checkbox\" ><label for=\"sk-estimator-id-23\" class=\"sk-toggleable__label sk-toggleable__label-arrow\">imputer</label><div class=\"sk-toggleable__content\"><pre>[]</pre></div></div></div><div class=\"sk-serial\"><div class=\"sk-item\"><div class=\"sk-estimator sk-toggleable\"><input class=\"sk-toggleable__control sk-hidden--visually\" id=\"sk-estimator-id-24\" type=\"checkbox\" ><label for=\"sk-estimator-id-24\" class=\"sk-toggleable__label sk-toggleable__label-arrow\">IterativeImputer</label><div class=\"sk-toggleable__content\"><pre>IterativeImputer(random_state=0)</pre></div></div></div></div></div></div></div></div></div></div></div><div class=\"sk-parallel-item\"><div class=\"sk-item\"><div class=\"sk-label-container\"><div class=\"sk-label sk-toggleable\"><input class=\"sk-toggleable__control sk-hidden--visually\" id=\"sk-estimator-id-25\" type=\"checkbox\" ><label for=\"sk-estimator-id-25\" class=\"sk-toggleable__label sk-toggleable__label-arrow\">num</label><div class=\"sk-toggleable__content\"><pre>[&#x27;a&#x27;, &#x27;b&#x27;]</pre></div></div></div><div class=\"sk-serial\"><div class=\"sk-item sk-dashed-wrapped\"><div class=\"sk-parallel\"><div class=\"sk-parallel-item\"><div class=\"sk-item\"><div class=\"sk-label-container\"><div class=\"sk-label sk-toggleable\"><input class=\"sk-toggleable__control sk-hidden--visually\" id=\"sk-estimator-id-26\" type=\"checkbox\" ><label for=\"sk-estimator-id-26\" class=\"sk-toggleable__label sk-toggleable__label-arrow\">scaler</label><div class=\"sk-toggleable__content\"><pre>[&#x27;a&#x27;, &#x27;b&#x27;]</pre></div></div></div><div class=\"sk-serial\"><div class=\"sk-item\"><div class=\"sk-estimator sk-toggleable\"><input class=\"sk-toggleable__control sk-hidden--visually\" id=\"sk-estimator-id-27\" type=\"checkbox\" ><label for=\"sk-estimator-id-27\" class=\"sk-toggleable__label sk-toggleable__label-arrow\">StandardScaler</label><div class=\"sk-toggleable__content\"><pre>StandardScaler()</pre></div></div></div></div></div></div><div class=\"sk-parallel-item\"><div class=\"sk-item\"><div class=\"sk-label-container\"><div class=\"sk-label sk-toggleable\"><input class=\"sk-toggleable__control sk-hidden--visually\" id=\"sk-estimator-id-28\" type=\"checkbox\" ><label for=\"sk-estimator-id-28\" class=\"sk-toggleable__label sk-toggleable__label-arrow\">pca</label><div class=\"sk-toggleable__content\"><pre>[&#x27;a&#x27;, &#x27;b&#x27;]</pre></div></div></div><div class=\"sk-serial\"><div class=\"sk-item\"><div class=\"sk-estimator sk-toggleable\"><input class=\"sk-toggleable__control sk-hidden--visually\" id=\"sk-estimator-id-29\" type=\"checkbox\" ><label for=\"sk-estimator-id-29\" class=\"sk-toggleable__label sk-toggleable__label-arrow\">PCA</label><div class=\"sk-toggleable__content\"><pre>PCA(n_components=0.95)</pre></div></div></div></div></div></div></div></div></div></div></div><div class=\"sk-parallel-item\"><div class=\"sk-item\"><div class=\"sk-label-container\"><div class=\"sk-label sk-toggleable\"><input class=\"sk-toggleable__control sk-hidden--visually\" id=\"sk-estimator-id-30\" type=\"checkbox\" ><label for=\"sk-estimator-id-30\" class=\"sk-toggleable__label sk-toggleable__label-arrow\">cat</label><div class=\"sk-toggleable__content\"><pre>[&#x27;c&#x27;, &#x27;d&#x27;]</pre></div></div></div><div class=\"sk-serial\"><div class=\"sk-item sk-dashed-wrapped\"><div class=\"sk-parallel\"><div class=\"sk-parallel-item\"><div class=\"sk-item\"><div class=\"sk-label-container\"><div class=\"sk-label sk-toggleable\"><input class=\"sk-toggleable__control sk-hidden--visually\" id=\"sk-estimator-id-31\" type=\"checkbox\" ><label for=\"sk-estimator-id-31\" class=\"sk-toggleable__label sk-toggleable__label-arrow\">one_hot</label><div class=\"sk-toggleable__content\"><pre>[&#x27;c&#x27;, &#x27;d&#x27;]</pre></div></div></div><div class=\"sk-serial\"><div class=\"sk-item\"><div class=\"sk-estimator sk-toggleable\"><input class=\"sk-toggleable__control sk-hidden--visually\" id=\"sk-estimator-id-32\" type=\"checkbox\" ><label for=\"sk-estimator-id-32\" class=\"sk-toggleable__label sk-toggleable__label-arrow\">OneHotEncoder</label><div class=\"sk-toggleable__content\"><pre>OneHotEncoder()</pre></div></div></div></div></div></div><div class=\"sk-parallel-item\"><div class=\"sk-item\"><div class=\"sk-label-container\"><div class=\"sk-label sk-toggleable\"><input class=\"sk-toggleable__control sk-hidden--visually\" id=\"sk-estimator-id-33\" type=\"checkbox\" ><label for=\"sk-estimator-id-33\" class=\"sk-toggleable__label sk-toggleable__label-arrow\">ordinal</label><div class=\"sk-toggleable__content\"><pre>[]</pre></div></div></div><div class=\"sk-serial\"><div class=\"sk-item\"><div class=\"sk-estimator sk-toggleable\"><input class=\"sk-toggleable__control sk-hidden--visually\" id=\"sk-estimator-id-34\" type=\"checkbox\" ><label for=\"sk-estimator-id-34\" class=\"sk-toggleable__label sk-toggleable__label-arrow\">OrdinalEncoder</label><div class=\"sk-toggleable__content\"><pre>OrdinalEncoder()</pre></div></div></div></div></div></div></div></div></div></div></div></div></div><div class=\"sk-item\"><div class=\"sk-estimator sk-toggleable\"><input class=\"sk-toggleable__control sk-hidden--visually\" id=\"sk-estimator-id-35\" type=\"checkbox\" ><label for=\"sk-estimator-id-35\" class=\"sk-toggleable__label sk-toggleable__label-arrow\">None</label><div class=\"sk-toggleable__content\"><pre>None</pre></div></div></div></div></div></div></div></div></div></div></div></div>"
      ],
      "text/plain": [
       "GridSearchCV(cv=5,\n",
       "             estimator=Pipeline(steps=[('preprocessor',\n",
       "                                        ColumnTransformer(transformers=[('outlier',\n",
       "                                                                         OutlierRemover(columns_factors={'a': 1.5,\n",
       "                                                                                                         'b': 1.5}),\n",
       "                                                                         ['a',\n",
       "                                                                          'b']),\n",
       "                                                                        ('imputer',\n",
       "                                                                         ColumnTransformer(transformers=[('imputer',\n",
       "                                                                                                          IterativeImputer(random_state=0),\n",
       "                                                                                                          [])]),\n",
       "                                                                         []),\n",
       "                                                                        ('num',\n",
       "                                                                         ColumnTransformer(transformers=[('scaler',\n",
       "                                                                                                          StandardScaler(),\n",
       "                                                                                                          ['a',\n",
       "                                                                                                           'b']),\n",
       "                                                                                                         ('pca',\n",
       "                                                                                                          PCA(n...\n",
       "                                                                                                          OrdinalEncoder(),\n",
       "                                                                                                          [])]),\n",
       "                                                                         ['c',\n",
       "                                                                          'd'])])),\n",
       "                                       ('regressor', None)]),\n",
       "             param_grid=[{'regressor': [GradientBoostingRegressor(max_depth=10,\n",
       "                                                                  n_estimators=2)],\n",
       "                          'regressor__max_depth': [2, 3, 5, 10, 20, 40],\n",
       "                          'regressor__n_estimators': [2, 3, 5, 10, 30]},\n",
       "                         {'regressor': [RandomForestRegressor()],\n",
       "                          'regressor__max_depth': [2, 3, 5, 10, 20, 40],\n",
       "                          'regressor__n_estimators': [2, 3, 5, 10, 30]}],\n",
       "             scoring='r2')"
      ]
     },
     "execution_count": 16,
     "metadata": {},
     "output_type": "execute_result"
    }
   ],
   "source": [
    "from sklearn import set_config\n",
    "set_config(display='diagram')\n",
    "\n",
    "pipeline = Pipeline([\n",
    "    ('preprocessor', preprocessor),\n",
    "    ('regressor', None)\n",
    "])\n",
    "\n",
    "pipeline\n",
    "\n",
    "# Définir la grille de paramètres\n",
    "param_grid =  [\n",
    "    {\n",
    "        'regressor' : [GradientBoostingRegressor()],\n",
    "        'regressor__n_estimators': [2, 3, 5, 10, 30],\n",
    "        'regressor__max_depth': [2, 3, 5, 10, 20, 40],\n",
    "    },\n",
    "    {\n",
    "        'regressor' : [RandomForestRegressor()],\n",
    "        'regressor__n_estimators': [2, 3, 5, 10, 30],\n",
    "        'regressor__max_depth': [2, 3, 5, 10, 20, 40],\n",
    "    },\n",
    "]\n",
    "\n",
    "grid_search = GridSearchCV(pipeline, param_grid, cv=5, scoring = 'r2')\n",
    "grid_search.fit(X_train, y_train)"
   ]
  },
  {
   "cell_type": "markdown",
   "metadata": {},
   "source": [
    "### Model selection"
   ]
  },
  {
   "cell_type": "code",
   "execution_count": 17,
   "metadata": {},
   "outputs": [
    {
     "name": "stdout",
     "output_type": "stream",
     "text": [
      "GradientBoostingRegressor :\n",
      "    score : 0\n",
      "    params : None\n",
      "RandomForestRegressor :\n",
      "    score : 0\n",
      "    params : None\n"
     ]
    }
   ],
   "source": [
    "# grid_search contains a param_grid with different regressors\n",
    "# for each type of regressor :\n",
    "# extract regressor who have the best score\n",
    "# print the score and the best params\n",
    " \n",
    "results = {}\n",
    "for i in range(len(grid_search.cv_results_['params'])):\n",
    "    regressor_name = grid_search.cv_results_['params'][i]['regressor'].__class__.__name__\n",
    "    # Append or instantiate a list at results[regressor_name] containing a dict with scoring and params\n",
    "    if regressor_name not in results.keys():\n",
    "        results[regressor_name] = []\n",
    "    results[regressor_name].append({\n",
    "        'score': grid_search.cv_results_['mean_test_score'][i],\n",
    "        'params': grid_search.cv_results_['params'][i]\n",
    "    })\n",
    "    \n",
    "# Get best score and params for each regressor\n",
    "for regressor_name, regressor_results in results.items():\n",
    "    best_score = 0\n",
    "    best_params = None\n",
    "    for regressor_result in regressor_results:\n",
    "        if regressor_result['score'] > best_score:\n",
    "            best_score = regressor_result['score']\n",
    "            best_params = regressor_result['params']\n",
    "    print(f'{regressor_name} :')\n",
    "    print(f'    score : {best_score}')\n",
    "    print(f'    params : {best_params}')"
   ]
  },
  {
   "cell_type": "code",
   "execution_count": 18,
   "metadata": {},
   "outputs": [
    {
     "name": "stdout",
     "output_type": "stream",
     "text": [
      "{'memory': None, 'steps': [('preprocessor', ColumnTransformer(transformers=[('outlier',\n",
      "                                 OutlierRemover(columns_factors={'a': 1.5,\n",
      "                                                                 'b': 1.5}),\n",
      "                                 ['a', 'b']),\n",
      "                                ('imputer',\n",
      "                                 ColumnTransformer(transformers=[('imputer',\n",
      "                                                                  IterativeImputer(random_state=0),\n",
      "                                                                  [])]),\n",
      "                                 []),\n",
      "                                ('num',\n",
      "                                 ColumnTransformer(transformers=[('scaler',\n",
      "                                                                  StandardScaler(),\n",
      "                                                                  ['a', 'b']),\n",
      "                                                                 ('pca',\n",
      "                                                                  PCA(n_components=0.95),\n",
      "                                                                  ['a', 'b'])]),\n",
      "                                 ['a', 'b']),\n",
      "                                ('cat',\n",
      "                                 ColumnTransformer(transformers=[('one_hot',\n",
      "                                                                  OneHotEncoder(),\n",
      "                                                                  ['c', 'd']),\n",
      "                                                                 ('ordinal',\n",
      "                                                                  OrdinalEncoder(),\n",
      "                                                                  [])]),\n",
      "                                 ['c', 'd'])])), ('regressor', GradientBoostingRegressor(max_depth=10, n_estimators=2))], 'verbose': False, 'preprocessor': ColumnTransformer(transformers=[('outlier',\n",
      "                                 OutlierRemover(columns_factors={'a': 1.5,\n",
      "                                                                 'b': 1.5}),\n",
      "                                 ['a', 'b']),\n",
      "                                ('imputer',\n",
      "                                 ColumnTransformer(transformers=[('imputer',\n",
      "                                                                  IterativeImputer(random_state=0),\n",
      "                                                                  [])]),\n",
      "                                 []),\n",
      "                                ('num',\n",
      "                                 ColumnTransformer(transformers=[('scaler',\n",
      "                                                                  StandardScaler(),\n",
      "                                                                  ['a', 'b']),\n",
      "                                                                 ('pca',\n",
      "                                                                  PCA(n_components=0.95),\n",
      "                                                                  ['a', 'b'])]),\n",
      "                                 ['a', 'b']),\n",
      "                                ('cat',\n",
      "                                 ColumnTransformer(transformers=[('one_hot',\n",
      "                                                                  OneHotEncoder(),\n",
      "                                                                  ['c', 'd']),\n",
      "                                                                 ('ordinal',\n",
      "                                                                  OrdinalEncoder(),\n",
      "                                                                  [])]),\n",
      "                                 ['c', 'd'])]), 'regressor': GradientBoostingRegressor(max_depth=10, n_estimators=2), 'preprocessor__n_jobs': None, 'preprocessor__remainder': 'drop', 'preprocessor__sparse_threshold': 0.3, 'preprocessor__transformer_weights': None, 'preprocessor__transformers': [('outlier', OutlierRemover(columns_factors={'a': 1.5, 'b': 1.5}), ['a', 'b']), ('imputer', ColumnTransformer(transformers=[('imputer', IterativeImputer(random_state=0),\n",
      "                                 [])]), []), ('num', ColumnTransformer(transformers=[('scaler', StandardScaler(), ['a', 'b']),\n",
      "                                ('pca', PCA(n_components=0.95), ['a', 'b'])]), ['a', 'b']), ('cat', ColumnTransformer(transformers=[('one_hot', OneHotEncoder(), ['c', 'd']),\n",
      "                                ('ordinal', OrdinalEncoder(), [])]), ['c', 'd'])], 'preprocessor__verbose': False, 'preprocessor__verbose_feature_names_out': True, 'preprocessor__outlier': OutlierRemover(columns_factors={'a': 1.5, 'b': 1.5}), 'preprocessor__imputer': ColumnTransformer(transformers=[('imputer', IterativeImputer(random_state=0),\n",
      "                                 [])]), 'preprocessor__num': ColumnTransformer(transformers=[('scaler', StandardScaler(), ['a', 'b']),\n",
      "                                ('pca', PCA(n_components=0.95), ['a', 'b'])]), 'preprocessor__cat': ColumnTransformer(transformers=[('one_hot', OneHotEncoder(), ['c', 'd']),\n",
      "                                ('ordinal', OrdinalEncoder(), [])]), 'preprocessor__outlier__columns_factors': {'a': 1.5, 'b': 1.5}, 'preprocessor__outlier__verbose': False, 'preprocessor__imputer__n_jobs': None, 'preprocessor__imputer__remainder': 'drop', 'preprocessor__imputer__sparse_threshold': 0.3, 'preprocessor__imputer__transformer_weights': None, 'preprocessor__imputer__transformers': [('imputer', IterativeImputer(random_state=0), [])], 'preprocessor__imputer__verbose': False, 'preprocessor__imputer__verbose_feature_names_out': True, 'preprocessor__imputer__imputer': IterativeImputer(random_state=0), 'preprocessor__imputer__imputer__add_indicator': False, 'preprocessor__imputer__imputer__estimator': None, 'preprocessor__imputer__imputer__imputation_order': 'ascending', 'preprocessor__imputer__imputer__initial_strategy': 'mean', 'preprocessor__imputer__imputer__keep_empty_features': False, 'preprocessor__imputer__imputer__max_iter': 10, 'preprocessor__imputer__imputer__max_value': inf, 'preprocessor__imputer__imputer__min_value': -inf, 'preprocessor__imputer__imputer__missing_values': nan, 'preprocessor__imputer__imputer__n_nearest_features': None, 'preprocessor__imputer__imputer__random_state': 0, 'preprocessor__imputer__imputer__sample_posterior': False, 'preprocessor__imputer__imputer__skip_complete': False, 'preprocessor__imputer__imputer__tol': 0.001, 'preprocessor__imputer__imputer__verbose': 0, 'preprocessor__num__n_jobs': None, 'preprocessor__num__remainder': 'drop', 'preprocessor__num__sparse_threshold': 0.3, 'preprocessor__num__transformer_weights': None, 'preprocessor__num__transformers': [('scaler', StandardScaler(), ['a', 'b']), ('pca', PCA(n_components=0.95), ['a', 'b'])], 'preprocessor__num__verbose': False, 'preprocessor__num__verbose_feature_names_out': True, 'preprocessor__num__scaler': StandardScaler(), 'preprocessor__num__pca': PCA(n_components=0.95), 'preprocessor__num__scaler__copy': True, 'preprocessor__num__scaler__with_mean': True, 'preprocessor__num__scaler__with_std': True, 'preprocessor__num__pca__copy': True, 'preprocessor__num__pca__iterated_power': 'auto', 'preprocessor__num__pca__n_components': 0.95, 'preprocessor__num__pca__n_oversamples': 10, 'preprocessor__num__pca__power_iteration_normalizer': 'auto', 'preprocessor__num__pca__random_state': None, 'preprocessor__num__pca__svd_solver': 'auto', 'preprocessor__num__pca__tol': 0.0, 'preprocessor__num__pca__whiten': False, 'preprocessor__cat__n_jobs': None, 'preprocessor__cat__remainder': 'drop', 'preprocessor__cat__sparse_threshold': 0.3, 'preprocessor__cat__transformer_weights': None, 'preprocessor__cat__transformers': [('one_hot', OneHotEncoder(), ['c', 'd']), ('ordinal', OrdinalEncoder(), [])], 'preprocessor__cat__verbose': False, 'preprocessor__cat__verbose_feature_names_out': True, 'preprocessor__cat__one_hot': OneHotEncoder(), 'preprocessor__cat__ordinal': OrdinalEncoder(), 'preprocessor__cat__one_hot__categories': 'auto', 'preprocessor__cat__one_hot__drop': None, 'preprocessor__cat__one_hot__dtype': <class 'numpy.float64'>, 'preprocessor__cat__one_hot__handle_unknown': 'error', 'preprocessor__cat__one_hot__max_categories': None, 'preprocessor__cat__one_hot__min_frequency': None, 'preprocessor__cat__one_hot__sparse': 'deprecated', 'preprocessor__cat__one_hot__sparse_output': True, 'preprocessor__cat__ordinal__categories': 'auto', 'preprocessor__cat__ordinal__dtype': <class 'numpy.float64'>, 'preprocessor__cat__ordinal__encoded_missing_value': nan, 'preprocessor__cat__ordinal__handle_unknown': 'error', 'preprocessor__cat__ordinal__unknown_value': None, 'regressor__alpha': 0.9, 'regressor__ccp_alpha': 0.0, 'regressor__criterion': 'friedman_mse', 'regressor__init': None, 'regressor__learning_rate': 0.1, 'regressor__loss': 'squared_error', 'regressor__max_depth': 10, 'regressor__max_features': None, 'regressor__max_leaf_nodes': None, 'regressor__min_impurity_decrease': 0.0, 'regressor__min_samples_leaf': 1, 'regressor__min_samples_split': 2, 'regressor__min_weight_fraction_leaf': 0.0, 'regressor__n_estimators': 2, 'regressor__n_iter_no_change': None, 'regressor__random_state': None, 'regressor__subsample': 1.0, 'regressor__tol': 0.0001, 'regressor__validation_fraction': 0.1, 'regressor__verbose': 0, 'regressor__warm_start': False}\n"
     ]
    }
   ],
   "source": [
    "# Select best model\n",
    "best_model = grid_search.best_estimator_\n",
    "print(best_model.get_params())"
   ]
  },
  {
   "cell_type": "markdown",
   "metadata": {},
   "source": [
    "### Saving model"
   ]
  },
  {
   "cell_type": "code",
   "execution_count": 19,
   "metadata": {},
   "outputs": [],
   "source": [
    "import pickle\n",
    "\n",
    "with open('misc/model.pkl', 'wb') as file:\n",
    "    pickle.dump(best_model, file)"
   ]
  }
 ],
 "metadata": {
  "kernelspec": {
   "display_name": "DataChallenge2023",
   "language": "python",
   "name": "python3"
  },
  "language_info": {
   "codemirror_mode": {
    "name": "ipython",
    "version": 3
   },
   "file_extension": ".py",
   "mimetype": "text/x-python",
   "name": "python",
   "nbconvert_exporter": "python",
   "pygments_lexer": "ipython3",
   "version": "3.11.5"
  }
 },
 "nbformat": 4,
 "nbformat_minor": 2
}
