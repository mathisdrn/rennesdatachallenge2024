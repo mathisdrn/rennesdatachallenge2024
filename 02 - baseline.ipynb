{
 "cells": [
  {
   "cell_type": "markdown",
   "metadata": {},
   "source": [
    "## Rennes Data Challenge 2023 \n",
    "\n",
    "Mathis Derenne\n",
    "\n",
    "---\n",
    "\n",
    "### Baseline model\n",
    "\n",
    "Baseline model provide a naive forecasting method to help compare predictions of other models. It uses the previous value of the time series as the prediction of the next value."
   ]
  },
  {
   "cell_type": "code",
   "execution_count": 9,
   "metadata": {},
   "outputs": [],
   "source": [
    "import pandas as pd\n",
    "from utils import load_data, validation_split"
   ]
  },
  {
   "cell_type": "code",
   "execution_count": 14,
   "metadata": {},
   "outputs": [
    {
     "data": {
      "text/plain": [
       "(Timestamp('2022-08-31 00:00:00'), Timestamp('2023-03-24 00:00:00'))"
      ]
     },
     "execution_count": 14,
     "metadata": {},
     "output_type": "execute_result"
    }
   ],
   "source": [
    "# Real values of the validation set \n",
    "_, y = load_data()\n",
    "y_val = y[validation_split:]\n",
    "y_val.to_csv('prediction/real_value.csv')\n",
    "\n",
    "y_val.index.min(), y_val.index.max()"
   ]
  },
  {
   "cell_type": "code",
   "execution_count": 10,
   "metadata": {},
   "outputs": [
    {
     "data": {
      "text/plain": [
       "(Timestamp('2022-08-31 00:00:00'), Timestamp('2023-03-24 00:00:00'))"
      ]
     },
     "execution_count": 10,
     "metadata": {},
     "output_type": "execute_result"
    }
   ],
   "source": [
    "# Naive prediction using the value of the previous day\n",
    "y_pred = y.shift(1)\n",
    "y_pred = y_pred[y_pred.index >= validation_split]\n",
    "\n",
    "y_pred.to_csv('prediction/baseline_pred.csv')\n",
    "\n",
    "y_pred.index.min(), y_pred.index.max()"
   ]
  }
 ],
 "metadata": {
  "kernelspec": {
   "display_name": "DataChallenge2023",
   "language": "python",
   "name": "python3"
  },
  "language_info": {
   "codemirror_mode": {
    "name": "ipython",
    "version": 3
   },
   "file_extension": ".py",
   "mimetype": "text/x-python",
   "name": "python",
   "nbconvert_exporter": "python",
   "pygments_lexer": "ipython3",
   "version": "3.11.7"
  }
 },
 "nbformat": 4,
 "nbformat_minor": 2
}
