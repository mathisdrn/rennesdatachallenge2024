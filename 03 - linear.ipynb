{
 "cells": [
  {
   "cell_type": "markdown",
   "metadata": {},
   "source": [
    "## Rennes Data Challenge 2023 \n",
    "\n",
    "Mathis Derenne\n",
    "\n",
    "---\n",
    "\n",
    "### Linear model\n",
    "\n",
    "Linear model provide a forecasting method that should be better than baseline method. It uses the previous value of the time series as well as exogenous features to predict the next value."
   ]
  },
  {
   "cell_type": "code",
   "execution_count": 28,
   "metadata": {},
   "outputs": [],
   "source": [
    "import pandas as pd\n",
    "import numpy as np\n",
    "from utils import load_data, validation_split"
   ]
  },
  {
   "cell_type": "code",
   "execution_count": 29,
   "metadata": {},
   "outputs": [],
   "source": [
    "X, y = load_data()\n",
    "X['date'] = X.index"
   ]
  },
  {
   "cell_type": "markdown",
   "metadata": {},
   "source": [
    "### Target feature engineering"
   ]
  },
  {
   "cell_type": "code",
   "execution_count": 30,
   "metadata": {},
   "outputs": [],
   "source": [
    "def get_lag(y, window_lag=1):\n",
    "    df = pd.DataFrame()\n",
    "    for i in range(1, window_lag + 1):\n",
    "        df[f'y_lag_{i}'] = y.shift(i)\n",
    "    return df\n",
    "\n",
    "lag = get_lag(y, window_lag=1)"
   ]
  },
  {
   "cell_type": "code",
   "execution_count": 31,
   "metadata": {},
   "outputs": [],
   "source": [
    "def get_moving_average(y, moving_average=1):\n",
    "    df = pd.DataFrame()\n",
    "    df['y_ma'] = y.rolling(moving_average).mean().shift(1)\n",
    "    return df\n",
    "\n",
    "ma = get_moving_average(y, moving_average=3)"
   ]
  },
  {
   "cell_type": "code",
   "execution_count": 32,
   "metadata": {},
   "outputs": [],
   "source": [
    "# index of rows that contain NaN\n",
    "idx = lag.index[lag.isna().any(axis=1)]\n",
    "idx = idx.union(ma.index[ma.isna().any(axis=1)])\n",
    "\n",
    "# add lag and moving average to X\n",
    "X = X.join(lag).join(ma)\n",
    "X\n",
    "\n",
    "# drop rows\n",
    "X = X.drop(idx)\n",
    "y = y.drop(idx)\n",
    "\n",
    "# get columns name of lag + moving average\n",
    "y_extracted_col = list(lag.columns) + list(ma.columns)"
   ]
  },
  {
   "cell_type": "code",
   "execution_count": 33,
   "metadata": {},
   "outputs": [],
   "source": [
    "X_train = X[X.index < validation_split]\n",
    "y_train = y[y.index < validation_split]\n",
    "X_test = X[X.index >= validation_split]\n",
    "y_test = y[y.index >= validation_split]"
   ]
  },
  {
   "cell_type": "markdown",
   "metadata": {},
   "source": [
    "### Preprocessing"
   ]
  },
  {
   "cell_type": "code",
   "execution_count": 34,
   "metadata": {},
   "outputs": [],
   "source": [
    "from sklearn.base import BaseEstimator, TransformerMixin\n",
    "from sklearn.compose import ColumnTransformer\n",
    "\n",
    "class DropMissing(BaseEstimator, TransformerMixin):\n",
    "    def __init__(self, threshold):\n",
    "        self.threshold = threshold\n",
    "\n",
    "    def fit(self, X, y=None):\n",
    "        missing_ratio = X.isnull().mean()\n",
    "        self.to_drop = missing_ratio[missing_ratio > self.threshold].index\n",
    "        return self\n",
    "\n",
    "    def transform(self, X, y=None):\n",
    "        return X.drop(self.to_drop, axis=1)"
   ]
  },
  {
   "cell_type": "code",
   "execution_count": 35,
   "metadata": {},
   "outputs": [
    {
     "data": {
      "text/html": [
       "<div>\n",
       "<style scoped>\n",
       "    .dataframe tbody tr th:only-of-type {\n",
       "        vertical-align: middle;\n",
       "    }\n",
       "\n",
       "    .dataframe tbody tr th {\n",
       "        vertical-align: top;\n",
       "    }\n",
       "\n",
       "    .dataframe thead th {\n",
       "        text-align: right;\n",
       "    }\n",
       "</style>\n",
       "<table border=\"1\" class=\"dataframe\">\n",
       "  <thead>\n",
       "    <tr style=\"text-align: right;\">\n",
       "      <th></th>\n",
       "      <th>day_of_week_sin</th>\n",
       "      <th>day_of_week_cos</th>\n",
       "    </tr>\n",
       "    <tr>\n",
       "      <th>date</th>\n",
       "      <th></th>\n",
       "      <th></th>\n",
       "    </tr>\n",
       "  </thead>\n",
       "  <tbody>\n",
       "    <tr>\n",
       "      <th>2017-08-23</th>\n",
       "      <td>0.974928</td>\n",
       "      <td>-0.222521</td>\n",
       "    </tr>\n",
       "    <tr>\n",
       "      <th>2017-08-24</th>\n",
       "      <td>0.433884</td>\n",
       "      <td>-0.900969</td>\n",
       "    </tr>\n",
       "    <tr>\n",
       "      <th>2017-08-25</th>\n",
       "      <td>-0.433884</td>\n",
       "      <td>-0.900969</td>\n",
       "    </tr>\n",
       "    <tr>\n",
       "      <th>2017-08-28</th>\n",
       "      <td>0.000000</td>\n",
       "      <td>1.000000</td>\n",
       "    </tr>\n",
       "    <tr>\n",
       "      <th>2017-08-29</th>\n",
       "      <td>0.781831</td>\n",
       "      <td>0.623490</td>\n",
       "    </tr>\n",
       "  </tbody>\n",
       "</table>\n",
       "</div>"
      ],
      "text/plain": [
       "            day_of_week_sin  day_of_week_cos\n",
       "date                                        \n",
       "2017-08-23         0.974928        -0.222521\n",
       "2017-08-24         0.433884        -0.900969\n",
       "2017-08-25        -0.433884        -0.900969\n",
       "2017-08-28         0.000000         1.000000\n",
       "2017-08-29         0.781831         0.623490"
      ]
     },
     "execution_count": 35,
     "metadata": {},
     "output_type": "execute_result"
    }
   ],
   "source": [
    "class AddDayOfWeek(BaseEstimator, TransformerMixin):\n",
    "    def __init__(self):\n",
    "        pass\n",
    "\n",
    "    def fit(self, X, y=None):\n",
    "        return self\n",
    "\n",
    "    def transform(self, X, y=None):\n",
    "        X = X.copy()\n",
    "        X['day_of_week'] = X['date'].dt.dayofweek\n",
    "        # Convertir en distance angulaire\n",
    "        X['day_of_week_sin'] = np.sin(2 * np.pi * X['day_of_week']/7)\n",
    "        X['day_of_week_cos'] = np.cos(2 * np.pi * X['day_of_week']/7)\n",
    "        X = X.drop(['date', 'day_of_week'], axis=1)\n",
    "        return X\n",
    "    \n",
    "AddDayOfWeek().fit_transform(X[['date']]).head()"
   ]
  },
  {
   "cell_type": "code",
   "execution_count": 36,
   "metadata": {},
   "outputs": [],
   "source": [
    "from sklearn.pipeline import Pipeline\n",
    "from sklearn.impute import KNNImputer\n",
    "from sklearn.preprocessing import RobustScaler, StandardScaler\n",
    "from sklearn.decomposition import PCA\n",
    "\n",
    "numeric_transformer = Pipeline(steps=[\n",
    "    ('drop_missing', DropMissing(threshold=0.25)),\n",
    "    ('imputer', KNNImputer(n_neighbors=5)),\n",
    "    ('scaler', RobustScaler()),\n",
    "    ('pca', PCA(n_components=0.7, svd_solver='full'))\n",
    "])\n",
    "\n",
    "date_transformer = Pipeline(steps=[\n",
    "    ('add_day_of_week', AddDayOfWeek())\n",
    "])"
   ]
  },
  {
   "cell_type": "code",
   "execution_count": 37,
   "metadata": {},
   "outputs": [
    {
     "data": {
      "text/html": [
       "<style>#sk-container-id-5 {color: black;}#sk-container-id-5 pre{padding: 0;}#sk-container-id-5 div.sk-toggleable {background-color: white;}#sk-container-id-5 label.sk-toggleable__label {cursor: pointer;display: block;width: 100%;margin-bottom: 0;padding: 0.3em;box-sizing: border-box;text-align: center;}#sk-container-id-5 label.sk-toggleable__label-arrow:before {content: \"▸\";float: left;margin-right: 0.25em;color: #696969;}#sk-container-id-5 label.sk-toggleable__label-arrow:hover:before {color: black;}#sk-container-id-5 div.sk-estimator:hover label.sk-toggleable__label-arrow:before {color: black;}#sk-container-id-5 div.sk-toggleable__content {max-height: 0;max-width: 0;overflow: hidden;text-align: left;background-color: #f0f8ff;}#sk-container-id-5 div.sk-toggleable__content pre {margin: 0.2em;color: black;border-radius: 0.25em;background-color: #f0f8ff;}#sk-container-id-5 input.sk-toggleable__control:checked~div.sk-toggleable__content {max-height: 200px;max-width: 100%;overflow: auto;}#sk-container-id-5 input.sk-toggleable__control:checked~label.sk-toggleable__label-arrow:before {content: \"▾\";}#sk-container-id-5 div.sk-estimator input.sk-toggleable__control:checked~label.sk-toggleable__label {background-color: #d4ebff;}#sk-container-id-5 div.sk-label input.sk-toggleable__control:checked~label.sk-toggleable__label {background-color: #d4ebff;}#sk-container-id-5 input.sk-hidden--visually {border: 0;clip: rect(1px 1px 1px 1px);clip: rect(1px, 1px, 1px, 1px);height: 1px;margin: -1px;overflow: hidden;padding: 0;position: absolute;width: 1px;}#sk-container-id-5 div.sk-estimator {font-family: monospace;background-color: #f0f8ff;border: 1px dotted black;border-radius: 0.25em;box-sizing: border-box;margin-bottom: 0.5em;}#sk-container-id-5 div.sk-estimator:hover {background-color: #d4ebff;}#sk-container-id-5 div.sk-parallel-item::after {content: \"\";width: 100%;border-bottom: 1px solid gray;flex-grow: 1;}#sk-container-id-5 div.sk-label:hover label.sk-toggleable__label {background-color: #d4ebff;}#sk-container-id-5 div.sk-serial::before {content: \"\";position: absolute;border-left: 1px solid gray;box-sizing: border-box;top: 0;bottom: 0;left: 50%;z-index: 0;}#sk-container-id-5 div.sk-serial {display: flex;flex-direction: column;align-items: center;background-color: white;padding-right: 0.2em;padding-left: 0.2em;position: relative;}#sk-container-id-5 div.sk-item {position: relative;z-index: 1;}#sk-container-id-5 div.sk-parallel {display: flex;align-items: stretch;justify-content: center;background-color: white;position: relative;}#sk-container-id-5 div.sk-item::before, #sk-container-id-5 div.sk-parallel-item::before {content: \"\";position: absolute;border-left: 1px solid gray;box-sizing: border-box;top: 0;bottom: 0;left: 50%;z-index: -1;}#sk-container-id-5 div.sk-parallel-item {display: flex;flex-direction: column;z-index: 1;position: relative;background-color: white;}#sk-container-id-5 div.sk-parallel-item:first-child::after {align-self: flex-end;width: 50%;}#sk-container-id-5 div.sk-parallel-item:last-child::after {align-self: flex-start;width: 50%;}#sk-container-id-5 div.sk-parallel-item:only-child::after {width: 0;}#sk-container-id-5 div.sk-dashed-wrapped {border: 1px dashed gray;margin: 0 0.4em 0.5em 0.4em;box-sizing: border-box;padding-bottom: 0.4em;background-color: white;}#sk-container-id-5 div.sk-label label {font-family: monospace;font-weight: bold;display: inline-block;line-height: 1.2em;}#sk-container-id-5 div.sk-label-container {text-align: center;}#sk-container-id-5 div.sk-container {/* jupyter's `normalize.less` sets `[hidden] { display: none; }` but bootstrap.min.css set `[hidden] { display: none !important; }` so we also need the `!important` here to be able to override the default hidden behavior on the sphinx rendered scikit-learn.org. See: https://github.com/scikit-learn/scikit-learn/issues/21755 */display: inline-block !important;position: relative;}#sk-container-id-5 div.sk-text-repr-fallback {display: none;}</style><div id=\"sk-container-id-5\" class=\"sk-top-container\"><div class=\"sk-text-repr-fallback\"><pre>ColumnTransformer(transformers=[(&#x27;num&#x27;,\n",
       "                                 Pipeline(steps=[(&#x27;drop_missing&#x27;,\n",
       "                                                  DropMissing(threshold=0.5)),\n",
       "                                                 (&#x27;imputer&#x27;, KNNImputer()),\n",
       "                                                 (&#x27;scaler&#x27;, RobustScaler()),\n",
       "                                                 (&#x27;pca&#x27;,\n",
       "                                                  PCA(n_components=0.7,\n",
       "                                                      svd_solver=&#x27;full&#x27;))]),\n",
       "                                 [&#x27;btc_tweet_count&#x27;, &#x27;eth_tweet_count&#x27;,\n",
       "                                  &#x27;bnb_tweet_count&#x27;, &#x27;xrp_tweet_count&#x27;,\n",
       "                                  &#x27;matic_tweet_count&#x27;, &#x27;ada_tweet_count&#x27;,\n",
       "                                  &#x27;doge_tweet_count&#x27;, &#x27;shib_tweet_count&#x27;,\n",
       "                                  &#x27;...\n",
       "                                  &#x27;eth_textblob_polarity_mean&#x27;,\n",
       "                                  &#x27;eth_vader_polarity_compound_min&#x27;,\n",
       "                                  &#x27;eth_vader_polarity_compound_max&#x27;,\n",
       "                                  &#x27;eth_vader_polarity_compound_mean&#x27;,\n",
       "                                  &#x27;bnb_posts_count&#x27;,\n",
       "                                  &#x27;bnb_textblob_polarity_min&#x27;,\n",
       "                                  &#x27;bnb_textblob_polarity_max&#x27;,\n",
       "                                  &#x27;bnb_textblob_polarity_mean&#x27;, ...]),\n",
       "                                (&#x27;y_col&#x27;, StandardScaler(),\n",
       "                                 [&#x27;y_lag_1&#x27;, &#x27;y_ma&#x27;]),\n",
       "                                (&#x27;date&#x27;,\n",
       "                                 Pipeline(steps=[(&#x27;add_day_of_week&#x27;,\n",
       "                                                  AddDayOfWeek())]),\n",
       "                                 [&#x27;date&#x27;])])</pre><b>In a Jupyter environment, please rerun this cell to show the HTML representation or trust the notebook. <br />On GitHub, the HTML representation is unable to render, please try loading this page with nbviewer.org.</b></div><div class=\"sk-container\" hidden><div class=\"sk-item sk-dashed-wrapped\"><div class=\"sk-label-container\"><div class=\"sk-label sk-toggleable\"><input class=\"sk-toggleable__control sk-hidden--visually\" id=\"sk-estimator-id-45\" type=\"checkbox\" ><label for=\"sk-estimator-id-45\" class=\"sk-toggleable__label sk-toggleable__label-arrow\">ColumnTransformer</label><div class=\"sk-toggleable__content\"><pre>ColumnTransformer(transformers=[(&#x27;num&#x27;,\n",
       "                                 Pipeline(steps=[(&#x27;drop_missing&#x27;,\n",
       "                                                  DropMissing(threshold=0.5)),\n",
       "                                                 (&#x27;imputer&#x27;, KNNImputer()),\n",
       "                                                 (&#x27;scaler&#x27;, RobustScaler()),\n",
       "                                                 (&#x27;pca&#x27;,\n",
       "                                                  PCA(n_components=0.7,\n",
       "                                                      svd_solver=&#x27;full&#x27;))]),\n",
       "                                 [&#x27;btc_tweet_count&#x27;, &#x27;eth_tweet_count&#x27;,\n",
       "                                  &#x27;bnb_tweet_count&#x27;, &#x27;xrp_tweet_count&#x27;,\n",
       "                                  &#x27;matic_tweet_count&#x27;, &#x27;ada_tweet_count&#x27;,\n",
       "                                  &#x27;doge_tweet_count&#x27;, &#x27;shib_tweet_count&#x27;,\n",
       "                                  &#x27;...\n",
       "                                  &#x27;eth_textblob_polarity_mean&#x27;,\n",
       "                                  &#x27;eth_vader_polarity_compound_min&#x27;,\n",
       "                                  &#x27;eth_vader_polarity_compound_max&#x27;,\n",
       "                                  &#x27;eth_vader_polarity_compound_mean&#x27;,\n",
       "                                  &#x27;bnb_posts_count&#x27;,\n",
       "                                  &#x27;bnb_textblob_polarity_min&#x27;,\n",
       "                                  &#x27;bnb_textblob_polarity_max&#x27;,\n",
       "                                  &#x27;bnb_textblob_polarity_mean&#x27;, ...]),\n",
       "                                (&#x27;y_col&#x27;, StandardScaler(),\n",
       "                                 [&#x27;y_lag_1&#x27;, &#x27;y_ma&#x27;]),\n",
       "                                (&#x27;date&#x27;,\n",
       "                                 Pipeline(steps=[(&#x27;add_day_of_week&#x27;,\n",
       "                                                  AddDayOfWeek())]),\n",
       "                                 [&#x27;date&#x27;])])</pre></div></div></div><div class=\"sk-parallel\"><div class=\"sk-parallel-item\"><div class=\"sk-item\"><div class=\"sk-label-container\"><div class=\"sk-label sk-toggleable\"><input class=\"sk-toggleable__control sk-hidden--visually\" id=\"sk-estimator-id-46\" type=\"checkbox\" ><label for=\"sk-estimator-id-46\" class=\"sk-toggleable__label sk-toggleable__label-arrow\">num</label><div class=\"sk-toggleable__content\"><pre>[&#x27;btc_tweet_count&#x27;, &#x27;eth_tweet_count&#x27;, &#x27;bnb_tweet_count&#x27;, &#x27;xrp_tweet_count&#x27;, &#x27;matic_tweet_count&#x27;, &#x27;ada_tweet_count&#x27;, &#x27;doge_tweet_count&#x27;, &#x27;shib_tweet_count&#x27;, &#x27;dot_tweet_count&#x27;, &#x27;bch_tweet_count&#x27;, &#x27;ltc_tweet_count&#x27;, &#x27;sol_tweet_count&#x27;, &#x27;btc_posts_count&#x27;, &#x27;btc_textblob_polarity_min&#x27;, &#x27;btc_textblob_polarity_max&#x27;, &#x27;btc_textblob_polarity_mean&#x27;, &#x27;btc_vader_polarity_compound_min&#x27;, &#x27;btc_vader_polarity_compound_max&#x27;, &#x27;btc_vader_polarity_compound_mean&#x27;, &#x27;eth_posts_count&#x27;, &#x27;eth_textblob_polarity_min&#x27;, &#x27;eth_textblob_polarity_max&#x27;, &#x27;eth_textblob_polarity_mean&#x27;, &#x27;eth_vader_polarity_compound_min&#x27;, &#x27;eth_vader_polarity_compound_max&#x27;, &#x27;eth_vader_polarity_compound_mean&#x27;, &#x27;bnb_posts_count&#x27;, &#x27;bnb_textblob_polarity_min&#x27;, &#x27;bnb_textblob_polarity_max&#x27;, &#x27;bnb_textblob_polarity_mean&#x27;, &#x27;bnb_vader_polarity_compound_min&#x27;, &#x27;bnb_vader_polarity_compound_max&#x27;, &#x27;bnb_vader_polarity_compound_mean&#x27;, &#x27;xrp_posts_count&#x27;, &#x27;xrp_textblob_polarity_min&#x27;, &#x27;xrp_textblob_polarity_max&#x27;, &#x27;xrp_textblob_polarity_mean&#x27;, &#x27;xrp_vader_polarity_compound_min&#x27;, &#x27;xrp_vader_polarity_compound_max&#x27;, &#x27;xrp_vader_polarity_compound_mean&#x27;, &#x27;matic_posts_count&#x27;, &#x27;matic_textblob_polarity_min&#x27;, &#x27;matic_textblob_polarity_max&#x27;, &#x27;matic_textblob_polarity_mean&#x27;, &#x27;matic_vader_polarity_compound_min&#x27;, &#x27;matic_vader_polarity_compound_max&#x27;, &#x27;matic_vader_polarity_compound_mean&#x27;, &#x27;ada_posts_count&#x27;, &#x27;ada_textblob_polarity_min&#x27;, &#x27;ada_textblob_polarity_max&#x27;, &#x27;ada_textblob_polarity_mean&#x27;, &#x27;ada_vader_polarity_compound_min&#x27;, &#x27;ada_vader_polarity_compound_max&#x27;, &#x27;ada_vader_polarity_compound_mean&#x27;, &#x27;doge_posts_count&#x27;, &#x27;doge_textblob_polarity_min&#x27;, &#x27;doge_textblob_polarity_max&#x27;, &#x27;doge_textblob_polarity_mean&#x27;, &#x27;doge_vader_polarity_compound_min&#x27;, &#x27;doge_vader_polarity_compound_max&#x27;, &#x27;doge_vader_polarity_compound_mean&#x27;, &#x27;shib_posts_count&#x27;, &#x27;shib_textblob_polarity_min&#x27;, &#x27;shib_textblob_polarity_max&#x27;, &#x27;shib_textblob_polarity_mean&#x27;, &#x27;shib_vader_polarity_compound_min&#x27;, &#x27;shib_vader_polarity_compound_max&#x27;, &#x27;shib_vader_polarity_compound_mean&#x27;, &#x27;dot_posts_count&#x27;, &#x27;dot_textblob_polarity_min&#x27;, &#x27;dot_textblob_polarity_max&#x27;, &#x27;dot_textblob_polarity_mean&#x27;, &#x27;dot_vader_polarity_compound_min&#x27;, &#x27;dot_vader_polarity_compound_max&#x27;, &#x27;dot_vader_polarity_compound_mean&#x27;, &#x27;bch_posts_count&#x27;, &#x27;bch_textblob_polarity_min&#x27;, &#x27;bch_textblob_polarity_max&#x27;, &#x27;bch_textblob_polarity_mean&#x27;, &#x27;bch_vader_polarity_compound_min&#x27;, &#x27;bch_vader_polarity_compound_max&#x27;, &#x27;bch_vader_polarity_compound_mean&#x27;, &#x27;ltc_posts_count&#x27;, &#x27;ltc_textblob_polarity_min&#x27;, &#x27;ltc_textblob_polarity_max&#x27;, &#x27;ltc_textblob_polarity_mean&#x27;, &#x27;ltc_vader_polarity_compound_min&#x27;, &#x27;ltc_vader_polarity_compound_max&#x27;, &#x27;ltc_vader_polarity_compound_mean&#x27;, &#x27;sol_posts_count&#x27;, &#x27;sol_textblob_polarity_min&#x27;, &#x27;sol_textblob_polarity_max&#x27;, &#x27;sol_textblob_polarity_mean&#x27;, &#x27;sol_vader_polarity_compound_min&#x27;, &#x27;sol_vader_polarity_compound_max&#x27;, &#x27;sol_vader_polarity_compound_mean&#x27;, &#x27;uncertainty_attention_twitter&#x27;, &#x27;cbdc_attention_twitter&#x27;, &#x27;monp_attention_twitter&#x27;, &#x27;sdcc_attention_twitter&#x27;, &#x27;regulation_attention_twitter&#x27;, &#x27;Volume_BTC&#x27;, &#x27;Close_ETH&#x27;, &#x27;Volume_ETH&#x27;, &#x27;Close_DOGE&#x27;, &#x27;Volume_DOGE&#x27;, &#x27;Close_SHIB&#x27;, &#x27;Volume_SHIB&#x27;, &#x27;Close_DOT&#x27;, &#x27;Volume_DOT&#x27;, &#x27;Close_BCH&#x27;, &#x27;Volume_BCH&#x27;, &#x27;Close_SOL&#x27;, &#x27;Volume_SOL&#x27;, &#x27;Close_ADA&#x27;, &#x27;Volume_ADA&#x27;, &#x27;Close_MATIC&#x27;, &#x27;Volume_MATIC&#x27;, &#x27;Close_BNB&#x27;, &#x27;Volume_BNB&#x27;, &#x27;Close_LTC&#x27;, &#x27;Volume_LTC&#x27;, &#x27;Close_XRP&#x27;, &#x27;Volume_XRP&#x27;, &#x27;monp_posts_count&#x27;, &#x27;monp_textblob_polarity_min&#x27;, &#x27;monp_textblob_polarity_max&#x27;, &#x27;monp_textblob_polarity_mean&#x27;, &#x27;monp_vader_polarity_compound_min&#x27;, &#x27;monp_vader_polarity_compound_max&#x27;, &#x27;monp_vader_polarity_compound_mean&#x27;, &#x27;sdcc_posts_count&#x27;, &#x27;sdcc_textblob_polarity_min&#x27;, &#x27;sdcc_textblob_polarity_max&#x27;, &#x27;sdcc_textblob_polarity_mean&#x27;, &#x27;sdcc_vader_polarity_compound_min&#x27;, &#x27;sdcc_vader_polarity_compound_max&#x27;, &#x27;sdcc_vader_polarity_compound_mean&#x27;, &#x27;crisis_posts_count&#x27;, &#x27;crisis_textblob_polarity_min&#x27;, &#x27;crisis_textblob_polarity_max&#x27;, &#x27;crisis_textblob_polarity_mean&#x27;, &#x27;crisis_vader_polarity_compound_min&#x27;, &#x27;crisis_vader_polarity_compound_max&#x27;, &#x27;crisis_vader_polarity_compound_mean&#x27;, &#x27;regulation_posts_count&#x27;, &#x27;regulation_textblob_polarity_min&#x27;, &#x27;regulation_textblob_polarity_max&#x27;, &#x27;regulation_textblob_polarity_mean&#x27;, &#x27;regulation_vader_polarity_compound_min&#x27;, &#x27;regulation_vader_polarity_compound_max&#x27;, &#x27;regulation_vader_polarity_compound_mean&#x27;, &#x27;EUR003M_Index&#x27;, &#x27;EUR006M_Index&#x27;, &#x27;EUR001M_Index&#x27;, &#x27;EUR012M_Index&#x27;, &#x27;US0001M_Index&#x27;, &#x27;US0003M_Index&#x27;, &#x27;US0006M_Index&#x27;, &#x27;US0012M_Index&#x27;, &#x27;H15T1M_Index&#x27;, &#x27;H15T3M_Index&#x27;, &#x27;H15T6M_Index&#x27;, &#x27;H15T1Y_Index&#x27;, &#x27;H15T2Y_Index&#x27;, &#x27;H15T5Y_Index&#x27;, &#x27;H15T3Y_Index&#x27;, &#x27;H15T10Y_Index&#x27;, &#x27;VStoxx&#x27;, &#x27;Gold&#x27;, &#x27;ECRPUS1YIndex&#x27;, &#x27;WTI_CrudeOil&#x27;, &#x27;Brent_CrudeOil&#x27;, &#x27;PercentHikeCut&#x27;, &#x27;SP500&#x27;, &#x27;NASDAQComposite&#x27;, &#x27;13WeeksTreasuryBill&#x27;, &#x27;TreasuryYield5Years&#x27;, &#x27;TreasuryYield10Years&#x27;, &#x27;TreasuryYield30Years&#x27;, &#x27;USEPUINDXD&#x27;, &#x27;VIXCLS&#x27;, &#x27;VXNCLS&#x27;, &#x27;VXVCLS&#x27;, &#x27;FedSF_NewsSentiment&#x27;, &#x27;InflationBreakevenT5YIE&#x27;, &#x27;InflationBreakevenT10YIE&#x27;, &#x27;TwitterEcoUncertaintyEnglish&#x27;, &#x27;TwitterEcoUncertaintyUSA&#x27;, &#x27;TwitterEcoUncertaintyWGT&#x27;, &#x27;TwitterEcoUncertaintySCA&#x27;, &#x27;TwitterMktUncertaintyEnglish&#x27;, &#x27;TwitterMktUncertaintyUSA&#x27;, &#x27;TwitterMktUncertaintyWGT&#x27;, &#x27;TwitterMktUncertaintySCA&#x27;, &#x27;CDS_ITRXEUE&#x27;, &#x27;CDS_ITRXEXE&#x27;, &#x27;CDS_ITRXEBE&#x27;, &#x27;CDS_ITRXESE&#x27;, &#x27;y_lag_1&#x27;, &#x27;y_ma&#x27;]</pre></div></div></div><div class=\"sk-serial\"><div class=\"sk-item\"><div class=\"sk-serial\"><div class=\"sk-item\"><div class=\"sk-estimator sk-toggleable\"><input class=\"sk-toggleable__control sk-hidden--visually\" id=\"sk-estimator-id-47\" type=\"checkbox\" ><label for=\"sk-estimator-id-47\" class=\"sk-toggleable__label sk-toggleable__label-arrow\">DropMissing</label><div class=\"sk-toggleable__content\"><pre>DropMissing(threshold=0.5)</pre></div></div></div><div class=\"sk-item\"><div class=\"sk-estimator sk-toggleable\"><input class=\"sk-toggleable__control sk-hidden--visually\" id=\"sk-estimator-id-48\" type=\"checkbox\" ><label for=\"sk-estimator-id-48\" class=\"sk-toggleable__label sk-toggleable__label-arrow\">KNNImputer</label><div class=\"sk-toggleable__content\"><pre>KNNImputer()</pre></div></div></div><div class=\"sk-item\"><div class=\"sk-estimator sk-toggleable\"><input class=\"sk-toggleable__control sk-hidden--visually\" id=\"sk-estimator-id-49\" type=\"checkbox\" ><label for=\"sk-estimator-id-49\" class=\"sk-toggleable__label sk-toggleable__label-arrow\">RobustScaler</label><div class=\"sk-toggleable__content\"><pre>RobustScaler()</pre></div></div></div><div class=\"sk-item\"><div class=\"sk-estimator sk-toggleable\"><input class=\"sk-toggleable__control sk-hidden--visually\" id=\"sk-estimator-id-50\" type=\"checkbox\" ><label for=\"sk-estimator-id-50\" class=\"sk-toggleable__label sk-toggleable__label-arrow\">PCA</label><div class=\"sk-toggleable__content\"><pre>PCA(n_components=0.7, svd_solver=&#x27;full&#x27;)</pre></div></div></div></div></div></div></div></div><div class=\"sk-parallel-item\"><div class=\"sk-item\"><div class=\"sk-label-container\"><div class=\"sk-label sk-toggleable\"><input class=\"sk-toggleable__control sk-hidden--visually\" id=\"sk-estimator-id-51\" type=\"checkbox\" ><label for=\"sk-estimator-id-51\" class=\"sk-toggleable__label sk-toggleable__label-arrow\">y_col</label><div class=\"sk-toggleable__content\"><pre>[&#x27;y_lag_1&#x27;, &#x27;y_ma&#x27;]</pre></div></div></div><div class=\"sk-serial\"><div class=\"sk-item\"><div class=\"sk-estimator sk-toggleable\"><input class=\"sk-toggleable__control sk-hidden--visually\" id=\"sk-estimator-id-52\" type=\"checkbox\" ><label for=\"sk-estimator-id-52\" class=\"sk-toggleable__label sk-toggleable__label-arrow\">StandardScaler</label><div class=\"sk-toggleable__content\"><pre>StandardScaler()</pre></div></div></div></div></div></div><div class=\"sk-parallel-item\"><div class=\"sk-item\"><div class=\"sk-label-container\"><div class=\"sk-label sk-toggleable\"><input class=\"sk-toggleable__control sk-hidden--visually\" id=\"sk-estimator-id-53\" type=\"checkbox\" ><label for=\"sk-estimator-id-53\" class=\"sk-toggleable__label sk-toggleable__label-arrow\">date</label><div class=\"sk-toggleable__content\"><pre>[&#x27;date&#x27;]</pre></div></div></div><div class=\"sk-serial\"><div class=\"sk-item\"><div class=\"sk-serial\"><div class=\"sk-item\"><div class=\"sk-estimator sk-toggleable\"><input class=\"sk-toggleable__control sk-hidden--visually\" id=\"sk-estimator-id-54\" type=\"checkbox\" ><label for=\"sk-estimator-id-54\" class=\"sk-toggleable__label sk-toggleable__label-arrow\">AddDayOfWeek</label><div class=\"sk-toggleable__content\"><pre>AddDayOfWeek()</pre></div></div></div></div></div></div></div></div></div></div></div></div>"
      ],
      "text/plain": [
       "ColumnTransformer(transformers=[('num',\n",
       "                                 Pipeline(steps=[('drop_missing',\n",
       "                                                  DropMissing(threshold=0.5)),\n",
       "                                                 ('imputer', KNNImputer()),\n",
       "                                                 ('scaler', RobustScaler()),\n",
       "                                                 ('pca',\n",
       "                                                  PCA(n_components=0.7,\n",
       "                                                      svd_solver='full'))]),\n",
       "                                 ['btc_tweet_count', 'eth_tweet_count',\n",
       "                                  'bnb_tweet_count', 'xrp_tweet_count',\n",
       "                                  'matic_tweet_count', 'ada_tweet_count',\n",
       "                                  'doge_tweet_count', 'shib_tweet_count',\n",
       "                                  '...\n",
       "                                  'eth_textblob_polarity_mean',\n",
       "                                  'eth_vader_polarity_compound_min',\n",
       "                                  'eth_vader_polarity_compound_max',\n",
       "                                  'eth_vader_polarity_compound_mean',\n",
       "                                  'bnb_posts_count',\n",
       "                                  'bnb_textblob_polarity_min',\n",
       "                                  'bnb_textblob_polarity_max',\n",
       "                                  'bnb_textblob_polarity_mean', ...]),\n",
       "                                ('y_col', StandardScaler(),\n",
       "                                 ['y_lag_1', 'y_ma']),\n",
       "                                ('date',\n",
       "                                 Pipeline(steps=[('add_day_of_week',\n",
       "                                                  AddDayOfWeek())]),\n",
       "                                 ['date'])])"
      ]
     },
     "execution_count": 37,
     "metadata": {},
     "output_type": "execute_result"
    }
   ],
   "source": [
    "numeric_features = X.select_dtypes(include=[np.number]).columns.tolist()\n",
    "\n",
    "preprocessor = ColumnTransformer(\n",
    "    transformers=[\n",
    "        ('num', numeric_transformer, numeric_features),\n",
    "        ('y_col', StandardScaler(), y_extracted_col),\n",
    "        ('date', date_transformer, ['date'])\n",
    "    ], remainder='drop')\n",
    "\n",
    "preprocessor"
   ]
  },
  {
   "cell_type": "markdown",
   "metadata": {},
   "source": [
    "### Linear model"
   ]
  },
  {
   "cell_type": "code",
   "execution_count": 38,
   "metadata": {},
   "outputs": [
    {
     "data": {
      "text/html": [
       "<style>#sk-container-id-6 {color: black;}#sk-container-id-6 pre{padding: 0;}#sk-container-id-6 div.sk-toggleable {background-color: white;}#sk-container-id-6 label.sk-toggleable__label {cursor: pointer;display: block;width: 100%;margin-bottom: 0;padding: 0.3em;box-sizing: border-box;text-align: center;}#sk-container-id-6 label.sk-toggleable__label-arrow:before {content: \"▸\";float: left;margin-right: 0.25em;color: #696969;}#sk-container-id-6 label.sk-toggleable__label-arrow:hover:before {color: black;}#sk-container-id-6 div.sk-estimator:hover label.sk-toggleable__label-arrow:before {color: black;}#sk-container-id-6 div.sk-toggleable__content {max-height: 0;max-width: 0;overflow: hidden;text-align: left;background-color: #f0f8ff;}#sk-container-id-6 div.sk-toggleable__content pre {margin: 0.2em;color: black;border-radius: 0.25em;background-color: #f0f8ff;}#sk-container-id-6 input.sk-toggleable__control:checked~div.sk-toggleable__content {max-height: 200px;max-width: 100%;overflow: auto;}#sk-container-id-6 input.sk-toggleable__control:checked~label.sk-toggleable__label-arrow:before {content: \"▾\";}#sk-container-id-6 div.sk-estimator input.sk-toggleable__control:checked~label.sk-toggleable__label {background-color: #d4ebff;}#sk-container-id-6 div.sk-label input.sk-toggleable__control:checked~label.sk-toggleable__label {background-color: #d4ebff;}#sk-container-id-6 input.sk-hidden--visually {border: 0;clip: rect(1px 1px 1px 1px);clip: rect(1px, 1px, 1px, 1px);height: 1px;margin: -1px;overflow: hidden;padding: 0;position: absolute;width: 1px;}#sk-container-id-6 div.sk-estimator {font-family: monospace;background-color: #f0f8ff;border: 1px dotted black;border-radius: 0.25em;box-sizing: border-box;margin-bottom: 0.5em;}#sk-container-id-6 div.sk-estimator:hover {background-color: #d4ebff;}#sk-container-id-6 div.sk-parallel-item::after {content: \"\";width: 100%;border-bottom: 1px solid gray;flex-grow: 1;}#sk-container-id-6 div.sk-label:hover label.sk-toggleable__label {background-color: #d4ebff;}#sk-container-id-6 div.sk-serial::before {content: \"\";position: absolute;border-left: 1px solid gray;box-sizing: border-box;top: 0;bottom: 0;left: 50%;z-index: 0;}#sk-container-id-6 div.sk-serial {display: flex;flex-direction: column;align-items: center;background-color: white;padding-right: 0.2em;padding-left: 0.2em;position: relative;}#sk-container-id-6 div.sk-item {position: relative;z-index: 1;}#sk-container-id-6 div.sk-parallel {display: flex;align-items: stretch;justify-content: center;background-color: white;position: relative;}#sk-container-id-6 div.sk-item::before, #sk-container-id-6 div.sk-parallel-item::before {content: \"\";position: absolute;border-left: 1px solid gray;box-sizing: border-box;top: 0;bottom: 0;left: 50%;z-index: -1;}#sk-container-id-6 div.sk-parallel-item {display: flex;flex-direction: column;z-index: 1;position: relative;background-color: white;}#sk-container-id-6 div.sk-parallel-item:first-child::after {align-self: flex-end;width: 50%;}#sk-container-id-6 div.sk-parallel-item:last-child::after {align-self: flex-start;width: 50%;}#sk-container-id-6 div.sk-parallel-item:only-child::after {width: 0;}#sk-container-id-6 div.sk-dashed-wrapped {border: 1px dashed gray;margin: 0 0.4em 0.5em 0.4em;box-sizing: border-box;padding-bottom: 0.4em;background-color: white;}#sk-container-id-6 div.sk-label label {font-family: monospace;font-weight: bold;display: inline-block;line-height: 1.2em;}#sk-container-id-6 div.sk-label-container {text-align: center;}#sk-container-id-6 div.sk-container {/* jupyter's `normalize.less` sets `[hidden] { display: none; }` but bootstrap.min.css set `[hidden] { display: none !important; }` so we also need the `!important` here to be able to override the default hidden behavior on the sphinx rendered scikit-learn.org. See: https://github.com/scikit-learn/scikit-learn/issues/21755 */display: inline-block !important;position: relative;}#sk-container-id-6 div.sk-text-repr-fallback {display: none;}</style><div id=\"sk-container-id-6\" class=\"sk-top-container\"><div class=\"sk-text-repr-fallback\"><pre>Pipeline(steps=[(&#x27;preprocessor&#x27;,\n",
       "                 ColumnTransformer(transformers=[(&#x27;num&#x27;,\n",
       "                                                  Pipeline(steps=[(&#x27;drop_missing&#x27;,\n",
       "                                                                   DropMissing(threshold=0.5)),\n",
       "                                                                  (&#x27;imputer&#x27;,\n",
       "                                                                   KNNImputer()),\n",
       "                                                                  (&#x27;scaler&#x27;,\n",
       "                                                                   RobustScaler()),\n",
       "                                                                  (&#x27;pca&#x27;,\n",
       "                                                                   PCA(n_components=0.7,\n",
       "                                                                       svd_solver=&#x27;full&#x27;))]),\n",
       "                                                  [&#x27;btc_tweet_count&#x27;,\n",
       "                                                   &#x27;eth_tweet_count&#x27;,\n",
       "                                                   &#x27;bnb_tweet_count&#x27;,\n",
       "                                                   &#x27;xrp_tweet_count&#x27;,\n",
       "                                                   &#x27;matic_tweet_count&#x27;,\n",
       "                                                   &#x27;ada_tweet_count&#x27;,\n",
       "                                                   &#x27;doge_t...\n",
       "                                                   &#x27;eth_vader_polarity_compound_min&#x27;,\n",
       "                                                   &#x27;eth_vader_polarity_compound_max&#x27;,\n",
       "                                                   &#x27;eth_vader_polarity_compound_mean&#x27;,\n",
       "                                                   &#x27;bnb_posts_count&#x27;,\n",
       "                                                   &#x27;bnb_textblob_polarity_min&#x27;,\n",
       "                                                   &#x27;bnb_textblob_polarity_max&#x27;,\n",
       "                                                   &#x27;bnb_textblob_polarity_mean&#x27;, ...]),\n",
       "                                                 (&#x27;y_col&#x27;, StandardScaler(),\n",
       "                                                  [&#x27;y_lag_1&#x27;, &#x27;y_ma&#x27;]),\n",
       "                                                 (&#x27;date&#x27;,\n",
       "                                                  Pipeline(steps=[(&#x27;add_day_of_week&#x27;,\n",
       "                                                                   AddDayOfWeek())]),\n",
       "                                                  [&#x27;date&#x27;])])),\n",
       "                (&#x27;regressor&#x27;, Ridge(alpha=1))])</pre><b>In a Jupyter environment, please rerun this cell to show the HTML representation or trust the notebook. <br />On GitHub, the HTML representation is unable to render, please try loading this page with nbviewer.org.</b></div><div class=\"sk-container\" hidden><div class=\"sk-item sk-dashed-wrapped\"><div class=\"sk-label-container\"><div class=\"sk-label sk-toggleable\"><input class=\"sk-toggleable__control sk-hidden--visually\" id=\"sk-estimator-id-55\" type=\"checkbox\" ><label for=\"sk-estimator-id-55\" class=\"sk-toggleable__label sk-toggleable__label-arrow\">Pipeline</label><div class=\"sk-toggleable__content\"><pre>Pipeline(steps=[(&#x27;preprocessor&#x27;,\n",
       "                 ColumnTransformer(transformers=[(&#x27;num&#x27;,\n",
       "                                                  Pipeline(steps=[(&#x27;drop_missing&#x27;,\n",
       "                                                                   DropMissing(threshold=0.5)),\n",
       "                                                                  (&#x27;imputer&#x27;,\n",
       "                                                                   KNNImputer()),\n",
       "                                                                  (&#x27;scaler&#x27;,\n",
       "                                                                   RobustScaler()),\n",
       "                                                                  (&#x27;pca&#x27;,\n",
       "                                                                   PCA(n_components=0.7,\n",
       "                                                                       svd_solver=&#x27;full&#x27;))]),\n",
       "                                                  [&#x27;btc_tweet_count&#x27;,\n",
       "                                                   &#x27;eth_tweet_count&#x27;,\n",
       "                                                   &#x27;bnb_tweet_count&#x27;,\n",
       "                                                   &#x27;xrp_tweet_count&#x27;,\n",
       "                                                   &#x27;matic_tweet_count&#x27;,\n",
       "                                                   &#x27;ada_tweet_count&#x27;,\n",
       "                                                   &#x27;doge_t...\n",
       "                                                   &#x27;eth_vader_polarity_compound_min&#x27;,\n",
       "                                                   &#x27;eth_vader_polarity_compound_max&#x27;,\n",
       "                                                   &#x27;eth_vader_polarity_compound_mean&#x27;,\n",
       "                                                   &#x27;bnb_posts_count&#x27;,\n",
       "                                                   &#x27;bnb_textblob_polarity_min&#x27;,\n",
       "                                                   &#x27;bnb_textblob_polarity_max&#x27;,\n",
       "                                                   &#x27;bnb_textblob_polarity_mean&#x27;, ...]),\n",
       "                                                 (&#x27;y_col&#x27;, StandardScaler(),\n",
       "                                                  [&#x27;y_lag_1&#x27;, &#x27;y_ma&#x27;]),\n",
       "                                                 (&#x27;date&#x27;,\n",
       "                                                  Pipeline(steps=[(&#x27;add_day_of_week&#x27;,\n",
       "                                                                   AddDayOfWeek())]),\n",
       "                                                  [&#x27;date&#x27;])])),\n",
       "                (&#x27;regressor&#x27;, Ridge(alpha=1))])</pre></div></div></div><div class=\"sk-serial\"><div class=\"sk-item sk-dashed-wrapped\"><div class=\"sk-label-container\"><div class=\"sk-label sk-toggleable\"><input class=\"sk-toggleable__control sk-hidden--visually\" id=\"sk-estimator-id-56\" type=\"checkbox\" ><label for=\"sk-estimator-id-56\" class=\"sk-toggleable__label sk-toggleable__label-arrow\">preprocessor: ColumnTransformer</label><div class=\"sk-toggleable__content\"><pre>ColumnTransformer(transformers=[(&#x27;num&#x27;,\n",
       "                                 Pipeline(steps=[(&#x27;drop_missing&#x27;,\n",
       "                                                  DropMissing(threshold=0.5)),\n",
       "                                                 (&#x27;imputer&#x27;, KNNImputer()),\n",
       "                                                 (&#x27;scaler&#x27;, RobustScaler()),\n",
       "                                                 (&#x27;pca&#x27;,\n",
       "                                                  PCA(n_components=0.7,\n",
       "                                                      svd_solver=&#x27;full&#x27;))]),\n",
       "                                 [&#x27;btc_tweet_count&#x27;, &#x27;eth_tweet_count&#x27;,\n",
       "                                  &#x27;bnb_tweet_count&#x27;, &#x27;xrp_tweet_count&#x27;,\n",
       "                                  &#x27;matic_tweet_count&#x27;, &#x27;ada_tweet_count&#x27;,\n",
       "                                  &#x27;doge_tweet_count&#x27;, &#x27;shib_tweet_count&#x27;,\n",
       "                                  &#x27;...\n",
       "                                  &#x27;eth_textblob_polarity_mean&#x27;,\n",
       "                                  &#x27;eth_vader_polarity_compound_min&#x27;,\n",
       "                                  &#x27;eth_vader_polarity_compound_max&#x27;,\n",
       "                                  &#x27;eth_vader_polarity_compound_mean&#x27;,\n",
       "                                  &#x27;bnb_posts_count&#x27;,\n",
       "                                  &#x27;bnb_textblob_polarity_min&#x27;,\n",
       "                                  &#x27;bnb_textblob_polarity_max&#x27;,\n",
       "                                  &#x27;bnb_textblob_polarity_mean&#x27;, ...]),\n",
       "                                (&#x27;y_col&#x27;, StandardScaler(),\n",
       "                                 [&#x27;y_lag_1&#x27;, &#x27;y_ma&#x27;]),\n",
       "                                (&#x27;date&#x27;,\n",
       "                                 Pipeline(steps=[(&#x27;add_day_of_week&#x27;,\n",
       "                                                  AddDayOfWeek())]),\n",
       "                                 [&#x27;date&#x27;])])</pre></div></div></div><div class=\"sk-parallel\"><div class=\"sk-parallel-item\"><div class=\"sk-item\"><div class=\"sk-label-container\"><div class=\"sk-label sk-toggleable\"><input class=\"sk-toggleable__control sk-hidden--visually\" id=\"sk-estimator-id-57\" type=\"checkbox\" ><label for=\"sk-estimator-id-57\" class=\"sk-toggleable__label sk-toggleable__label-arrow\">num</label><div class=\"sk-toggleable__content\"><pre>[&#x27;btc_tweet_count&#x27;, &#x27;eth_tweet_count&#x27;, &#x27;bnb_tweet_count&#x27;, &#x27;xrp_tweet_count&#x27;, &#x27;matic_tweet_count&#x27;, &#x27;ada_tweet_count&#x27;, &#x27;doge_tweet_count&#x27;, &#x27;shib_tweet_count&#x27;, &#x27;dot_tweet_count&#x27;, &#x27;bch_tweet_count&#x27;, &#x27;ltc_tweet_count&#x27;, &#x27;sol_tweet_count&#x27;, &#x27;btc_posts_count&#x27;, &#x27;btc_textblob_polarity_min&#x27;, &#x27;btc_textblob_polarity_max&#x27;, &#x27;btc_textblob_polarity_mean&#x27;, &#x27;btc_vader_polarity_compound_min&#x27;, &#x27;btc_vader_polarity_compound_max&#x27;, &#x27;btc_vader_polarity_compound_mean&#x27;, &#x27;eth_posts_count&#x27;, &#x27;eth_textblob_polarity_min&#x27;, &#x27;eth_textblob_polarity_max&#x27;, &#x27;eth_textblob_polarity_mean&#x27;, &#x27;eth_vader_polarity_compound_min&#x27;, &#x27;eth_vader_polarity_compound_max&#x27;, &#x27;eth_vader_polarity_compound_mean&#x27;, &#x27;bnb_posts_count&#x27;, &#x27;bnb_textblob_polarity_min&#x27;, &#x27;bnb_textblob_polarity_max&#x27;, &#x27;bnb_textblob_polarity_mean&#x27;, &#x27;bnb_vader_polarity_compound_min&#x27;, &#x27;bnb_vader_polarity_compound_max&#x27;, &#x27;bnb_vader_polarity_compound_mean&#x27;, &#x27;xrp_posts_count&#x27;, &#x27;xrp_textblob_polarity_min&#x27;, &#x27;xrp_textblob_polarity_max&#x27;, &#x27;xrp_textblob_polarity_mean&#x27;, &#x27;xrp_vader_polarity_compound_min&#x27;, &#x27;xrp_vader_polarity_compound_max&#x27;, &#x27;xrp_vader_polarity_compound_mean&#x27;, &#x27;matic_posts_count&#x27;, &#x27;matic_textblob_polarity_min&#x27;, &#x27;matic_textblob_polarity_max&#x27;, &#x27;matic_textblob_polarity_mean&#x27;, &#x27;matic_vader_polarity_compound_min&#x27;, &#x27;matic_vader_polarity_compound_max&#x27;, &#x27;matic_vader_polarity_compound_mean&#x27;, &#x27;ada_posts_count&#x27;, &#x27;ada_textblob_polarity_min&#x27;, &#x27;ada_textblob_polarity_max&#x27;, &#x27;ada_textblob_polarity_mean&#x27;, &#x27;ada_vader_polarity_compound_min&#x27;, &#x27;ada_vader_polarity_compound_max&#x27;, &#x27;ada_vader_polarity_compound_mean&#x27;, &#x27;doge_posts_count&#x27;, &#x27;doge_textblob_polarity_min&#x27;, &#x27;doge_textblob_polarity_max&#x27;, &#x27;doge_textblob_polarity_mean&#x27;, &#x27;doge_vader_polarity_compound_min&#x27;, &#x27;doge_vader_polarity_compound_max&#x27;, &#x27;doge_vader_polarity_compound_mean&#x27;, &#x27;shib_posts_count&#x27;, &#x27;shib_textblob_polarity_min&#x27;, &#x27;shib_textblob_polarity_max&#x27;, &#x27;shib_textblob_polarity_mean&#x27;, &#x27;shib_vader_polarity_compound_min&#x27;, &#x27;shib_vader_polarity_compound_max&#x27;, &#x27;shib_vader_polarity_compound_mean&#x27;, &#x27;dot_posts_count&#x27;, &#x27;dot_textblob_polarity_min&#x27;, &#x27;dot_textblob_polarity_max&#x27;, &#x27;dot_textblob_polarity_mean&#x27;, &#x27;dot_vader_polarity_compound_min&#x27;, &#x27;dot_vader_polarity_compound_max&#x27;, &#x27;dot_vader_polarity_compound_mean&#x27;, &#x27;bch_posts_count&#x27;, &#x27;bch_textblob_polarity_min&#x27;, &#x27;bch_textblob_polarity_max&#x27;, &#x27;bch_textblob_polarity_mean&#x27;, &#x27;bch_vader_polarity_compound_min&#x27;, &#x27;bch_vader_polarity_compound_max&#x27;, &#x27;bch_vader_polarity_compound_mean&#x27;, &#x27;ltc_posts_count&#x27;, &#x27;ltc_textblob_polarity_min&#x27;, &#x27;ltc_textblob_polarity_max&#x27;, &#x27;ltc_textblob_polarity_mean&#x27;, &#x27;ltc_vader_polarity_compound_min&#x27;, &#x27;ltc_vader_polarity_compound_max&#x27;, &#x27;ltc_vader_polarity_compound_mean&#x27;, &#x27;sol_posts_count&#x27;, &#x27;sol_textblob_polarity_min&#x27;, &#x27;sol_textblob_polarity_max&#x27;, &#x27;sol_textblob_polarity_mean&#x27;, &#x27;sol_vader_polarity_compound_min&#x27;, &#x27;sol_vader_polarity_compound_max&#x27;, &#x27;sol_vader_polarity_compound_mean&#x27;, &#x27;uncertainty_attention_twitter&#x27;, &#x27;cbdc_attention_twitter&#x27;, &#x27;monp_attention_twitter&#x27;, &#x27;sdcc_attention_twitter&#x27;, &#x27;regulation_attention_twitter&#x27;, &#x27;Volume_BTC&#x27;, &#x27;Close_ETH&#x27;, &#x27;Volume_ETH&#x27;, &#x27;Close_DOGE&#x27;, &#x27;Volume_DOGE&#x27;, &#x27;Close_SHIB&#x27;, &#x27;Volume_SHIB&#x27;, &#x27;Close_DOT&#x27;, &#x27;Volume_DOT&#x27;, &#x27;Close_BCH&#x27;, &#x27;Volume_BCH&#x27;, &#x27;Close_SOL&#x27;, &#x27;Volume_SOL&#x27;, &#x27;Close_ADA&#x27;, &#x27;Volume_ADA&#x27;, &#x27;Close_MATIC&#x27;, &#x27;Volume_MATIC&#x27;, &#x27;Close_BNB&#x27;, &#x27;Volume_BNB&#x27;, &#x27;Close_LTC&#x27;, &#x27;Volume_LTC&#x27;, &#x27;Close_XRP&#x27;, &#x27;Volume_XRP&#x27;, &#x27;monp_posts_count&#x27;, &#x27;monp_textblob_polarity_min&#x27;, &#x27;monp_textblob_polarity_max&#x27;, &#x27;monp_textblob_polarity_mean&#x27;, &#x27;monp_vader_polarity_compound_min&#x27;, &#x27;monp_vader_polarity_compound_max&#x27;, &#x27;monp_vader_polarity_compound_mean&#x27;, &#x27;sdcc_posts_count&#x27;, &#x27;sdcc_textblob_polarity_min&#x27;, &#x27;sdcc_textblob_polarity_max&#x27;, &#x27;sdcc_textblob_polarity_mean&#x27;, &#x27;sdcc_vader_polarity_compound_min&#x27;, &#x27;sdcc_vader_polarity_compound_max&#x27;, &#x27;sdcc_vader_polarity_compound_mean&#x27;, &#x27;crisis_posts_count&#x27;, &#x27;crisis_textblob_polarity_min&#x27;, &#x27;crisis_textblob_polarity_max&#x27;, &#x27;crisis_textblob_polarity_mean&#x27;, &#x27;crisis_vader_polarity_compound_min&#x27;, &#x27;crisis_vader_polarity_compound_max&#x27;, &#x27;crisis_vader_polarity_compound_mean&#x27;, &#x27;regulation_posts_count&#x27;, &#x27;regulation_textblob_polarity_min&#x27;, &#x27;regulation_textblob_polarity_max&#x27;, &#x27;regulation_textblob_polarity_mean&#x27;, &#x27;regulation_vader_polarity_compound_min&#x27;, &#x27;regulation_vader_polarity_compound_max&#x27;, &#x27;regulation_vader_polarity_compound_mean&#x27;, &#x27;EUR003M_Index&#x27;, &#x27;EUR006M_Index&#x27;, &#x27;EUR001M_Index&#x27;, &#x27;EUR012M_Index&#x27;, &#x27;US0001M_Index&#x27;, &#x27;US0003M_Index&#x27;, &#x27;US0006M_Index&#x27;, &#x27;US0012M_Index&#x27;, &#x27;H15T1M_Index&#x27;, &#x27;H15T3M_Index&#x27;, &#x27;H15T6M_Index&#x27;, &#x27;H15T1Y_Index&#x27;, &#x27;H15T2Y_Index&#x27;, &#x27;H15T5Y_Index&#x27;, &#x27;H15T3Y_Index&#x27;, &#x27;H15T10Y_Index&#x27;, &#x27;VStoxx&#x27;, &#x27;Gold&#x27;, &#x27;ECRPUS1YIndex&#x27;, &#x27;WTI_CrudeOil&#x27;, &#x27;Brent_CrudeOil&#x27;, &#x27;PercentHikeCut&#x27;, &#x27;SP500&#x27;, &#x27;NASDAQComposite&#x27;, &#x27;13WeeksTreasuryBill&#x27;, &#x27;TreasuryYield5Years&#x27;, &#x27;TreasuryYield10Years&#x27;, &#x27;TreasuryYield30Years&#x27;, &#x27;USEPUINDXD&#x27;, &#x27;VIXCLS&#x27;, &#x27;VXNCLS&#x27;, &#x27;VXVCLS&#x27;, &#x27;FedSF_NewsSentiment&#x27;, &#x27;InflationBreakevenT5YIE&#x27;, &#x27;InflationBreakevenT10YIE&#x27;, &#x27;TwitterEcoUncertaintyEnglish&#x27;, &#x27;TwitterEcoUncertaintyUSA&#x27;, &#x27;TwitterEcoUncertaintyWGT&#x27;, &#x27;TwitterEcoUncertaintySCA&#x27;, &#x27;TwitterMktUncertaintyEnglish&#x27;, &#x27;TwitterMktUncertaintyUSA&#x27;, &#x27;TwitterMktUncertaintyWGT&#x27;, &#x27;TwitterMktUncertaintySCA&#x27;, &#x27;CDS_ITRXEUE&#x27;, &#x27;CDS_ITRXEXE&#x27;, &#x27;CDS_ITRXEBE&#x27;, &#x27;CDS_ITRXESE&#x27;, &#x27;y_lag_1&#x27;, &#x27;y_ma&#x27;]</pre></div></div></div><div class=\"sk-serial\"><div class=\"sk-item\"><div class=\"sk-serial\"><div class=\"sk-item\"><div class=\"sk-estimator sk-toggleable\"><input class=\"sk-toggleable__control sk-hidden--visually\" id=\"sk-estimator-id-58\" type=\"checkbox\" ><label for=\"sk-estimator-id-58\" class=\"sk-toggleable__label sk-toggleable__label-arrow\">DropMissing</label><div class=\"sk-toggleable__content\"><pre>DropMissing(threshold=0.5)</pre></div></div></div><div class=\"sk-item\"><div class=\"sk-estimator sk-toggleable\"><input class=\"sk-toggleable__control sk-hidden--visually\" id=\"sk-estimator-id-59\" type=\"checkbox\" ><label for=\"sk-estimator-id-59\" class=\"sk-toggleable__label sk-toggleable__label-arrow\">KNNImputer</label><div class=\"sk-toggleable__content\"><pre>KNNImputer()</pre></div></div></div><div class=\"sk-item\"><div class=\"sk-estimator sk-toggleable\"><input class=\"sk-toggleable__control sk-hidden--visually\" id=\"sk-estimator-id-60\" type=\"checkbox\" ><label for=\"sk-estimator-id-60\" class=\"sk-toggleable__label sk-toggleable__label-arrow\">RobustScaler</label><div class=\"sk-toggleable__content\"><pre>RobustScaler()</pre></div></div></div><div class=\"sk-item\"><div class=\"sk-estimator sk-toggleable\"><input class=\"sk-toggleable__control sk-hidden--visually\" id=\"sk-estimator-id-61\" type=\"checkbox\" ><label for=\"sk-estimator-id-61\" class=\"sk-toggleable__label sk-toggleable__label-arrow\">PCA</label><div class=\"sk-toggleable__content\"><pre>PCA(n_components=0.7, svd_solver=&#x27;full&#x27;)</pre></div></div></div></div></div></div></div></div><div class=\"sk-parallel-item\"><div class=\"sk-item\"><div class=\"sk-label-container\"><div class=\"sk-label sk-toggleable\"><input class=\"sk-toggleable__control sk-hidden--visually\" id=\"sk-estimator-id-62\" type=\"checkbox\" ><label for=\"sk-estimator-id-62\" class=\"sk-toggleable__label sk-toggleable__label-arrow\">y_col</label><div class=\"sk-toggleable__content\"><pre>[&#x27;y_lag_1&#x27;, &#x27;y_ma&#x27;]</pre></div></div></div><div class=\"sk-serial\"><div class=\"sk-item\"><div class=\"sk-estimator sk-toggleable\"><input class=\"sk-toggleable__control sk-hidden--visually\" id=\"sk-estimator-id-63\" type=\"checkbox\" ><label for=\"sk-estimator-id-63\" class=\"sk-toggleable__label sk-toggleable__label-arrow\">StandardScaler</label><div class=\"sk-toggleable__content\"><pre>StandardScaler()</pre></div></div></div></div></div></div><div class=\"sk-parallel-item\"><div class=\"sk-item\"><div class=\"sk-label-container\"><div class=\"sk-label sk-toggleable\"><input class=\"sk-toggleable__control sk-hidden--visually\" id=\"sk-estimator-id-64\" type=\"checkbox\" ><label for=\"sk-estimator-id-64\" class=\"sk-toggleable__label sk-toggleable__label-arrow\">date</label><div class=\"sk-toggleable__content\"><pre>[&#x27;date&#x27;]</pre></div></div></div><div class=\"sk-serial\"><div class=\"sk-item\"><div class=\"sk-serial\"><div class=\"sk-item\"><div class=\"sk-estimator sk-toggleable\"><input class=\"sk-toggleable__control sk-hidden--visually\" id=\"sk-estimator-id-65\" type=\"checkbox\" ><label for=\"sk-estimator-id-65\" class=\"sk-toggleable__label sk-toggleable__label-arrow\">AddDayOfWeek</label><div class=\"sk-toggleable__content\"><pre>AddDayOfWeek()</pre></div></div></div></div></div></div></div></div></div></div><div class=\"sk-item\"><div class=\"sk-estimator sk-toggleable\"><input class=\"sk-toggleable__control sk-hidden--visually\" id=\"sk-estimator-id-66\" type=\"checkbox\" ><label for=\"sk-estimator-id-66\" class=\"sk-toggleable__label sk-toggleable__label-arrow\">Ridge</label><div class=\"sk-toggleable__content\"><pre>Ridge(alpha=1)</pre></div></div></div></div></div></div></div>"
      ],
      "text/plain": [
       "Pipeline(steps=[('preprocessor',\n",
       "                 ColumnTransformer(transformers=[('num',\n",
       "                                                  Pipeline(steps=[('drop_missing',\n",
       "                                                                   DropMissing(threshold=0.5)),\n",
       "                                                                  ('imputer',\n",
       "                                                                   KNNImputer()),\n",
       "                                                                  ('scaler',\n",
       "                                                                   RobustScaler()),\n",
       "                                                                  ('pca',\n",
       "                                                                   PCA(n_components=0.7,\n",
       "                                                                       svd_solver='full'))]),\n",
       "                                                  ['btc_tweet_count',\n",
       "                                                   'eth_tweet_count',\n",
       "                                                   'bnb_tweet_count',\n",
       "                                                   'xrp_tweet_count',\n",
       "                                                   'matic_tweet_count',\n",
       "                                                   'ada_tweet_count',\n",
       "                                                   'doge_t...\n",
       "                                                   'eth_vader_polarity_compound_min',\n",
       "                                                   'eth_vader_polarity_compound_max',\n",
       "                                                   'eth_vader_polarity_compound_mean',\n",
       "                                                   'bnb_posts_count',\n",
       "                                                   'bnb_textblob_polarity_min',\n",
       "                                                   'bnb_textblob_polarity_max',\n",
       "                                                   'bnb_textblob_polarity_mean', ...]),\n",
       "                                                 ('y_col', StandardScaler(),\n",
       "                                                  ['y_lag_1', 'y_ma']),\n",
       "                                                 ('date',\n",
       "                                                  Pipeline(steps=[('add_day_of_week',\n",
       "                                                                   AddDayOfWeek())]),\n",
       "                                                  ['date'])])),\n",
       "                ('regressor', Ridge(alpha=1))])"
      ]
     },
     "execution_count": 38,
     "metadata": {},
     "output_type": "execute_result"
    }
   ],
   "source": [
    "from sklearn.linear_model import Ridge\n",
    "\n",
    "model = Pipeline(steps=[\n",
    "    ('preprocessor', preprocessor),\n",
    "    ('regressor', Ridge(alpha = 1))\n",
    "])\n",
    "\n",
    "model.fit(X_train, y_train)"
   ]
  },
  {
   "cell_type": "code",
   "execution_count": 48,
   "metadata": {},
   "outputs": [
    {
     "name": "stdout",
     "output_type": "stream",
     "text": [
      "Best parameter (CV score=0.965):\n",
      "{'regressor__alpha': 0.01, 'preprocessor__num__pca__n_components': 0.6, 'preprocessor__num__imputer__n_neighbors': 5, 'preprocessor__num__drop_missing__threshold': 0}\n"
     ]
    }
   ],
   "source": [
    "from sklearn.model_selection import RandomizedSearchCV\n",
    "\n",
    "param_grid = {\n",
    "    'preprocessor__num__drop_missing__threshold': [0, .1, .2, .3, .4],\n",
    "    'preprocessor__num__imputer__n_neighbors': [3, 5, 7],\n",
    "    'preprocessor__num__pca__n_components': [.3, .4, .5, .6, .7, .8],\n",
    "    'regressor__alpha': np.logspace(-4, 4, 5)\n",
    "}\n",
    "\n",
    "search = RandomizedSearchCV(model, param_grid, cv=4, n_iter = 30)\n",
    "\n",
    "search.fit(X_train, y_train)\n",
    "\n",
    "print(\"Best parameter (CV score=%0.3f):\" % search.best_score_)\n",
    "print(search.best_params_)"
   ]
  },
  {
   "cell_type": "markdown",
   "metadata": {},
   "source": [
    "### Best model selection"
   ]
  },
  {
   "cell_type": "code",
   "execution_count": 49,
   "metadata": {},
   "outputs": [
    {
     "name": "stdout",
     "output_type": "stream",
     "text": [
      "R2: 0.9346979043389085\n",
      "MAE: 479.1145876725745\n",
      "MSE: 567852.9283983577\n"
     ]
    }
   ],
   "source": [
    "# Get the best model\n",
    "model = search.best_estimator_\n",
    "pred = model.predict(X_test)\n",
    "# print R2, MAE, MSE\n",
    "from sklearn.metrics import r2_score, mean_absolute_error, mean_squared_error\n",
    "print(f\"R2: {r2_score(y_test, pred)}\")\n",
    "print(f\"MAE: {mean_absolute_error(y_test, pred)}\")\n",
    "print(f\"MSE: {mean_squared_error(y_test, pred)}\")\n",
    "\n",
    "# Make pred into a dataframe with y_test index\n",
    "pred = pd.DataFrame(pred, index=y_test.index, columns=['Close_BTC'])\n",
    "\n",
    "pred.to_csv('prediction/linear_pred.csv')"
   ]
  },
  {
   "cell_type": "markdown",
   "metadata": {},
   "source": [
    "### Backtesting strategy"
   ]
  },
  {
   "cell_type": "code",
   "execution_count": 57,
   "metadata": {},
   "outputs": [],
   "source": [
    "def day_to_day_pred(X, y, model):\n",
    "    \"\"\"Fit model on every data before predicting y(t), repeat from validation_split to end of data\"\"\"\n",
    "    pred = []\n",
    "    n = len(X[X.index < validation_split])\n",
    "    for i in range(n, len(X)):\n",
    "        X_train = X.iloc[:i]\n",
    "        y_train = y.iloc[:i]\n",
    "        model.fit(X_train, y_train)\n",
    "        pred.append(model.predict(X.iloc[i:i+1]))\n",
    "    pred = np.concatenate(pred)\n",
    "    # Make it into a dataframe with y index\n",
    "    pred = pd.DataFrame(pred, index=y.index[n:], columns=['Close_BTC'])\n",
    "    return pred\n",
    "\n",
    "pred = day_to_day_pred(X, y, model)"
   ]
  },
  {
   "cell_type": "code",
   "execution_count": 59,
   "metadata": {},
   "outputs": [
    {
     "name": "stdout",
     "output_type": "stream",
     "text": [
      "R2: 0.9334248719497592\n",
      "MAE: 486.3601855288957\n",
      "MSE: 578922.9432701027\n"
     ]
    }
   ],
   "source": [
    "print(f\"R2: {r2_score(y_test, pred)}\")\n",
    "print(f\"MAE: {mean_absolute_error(y_test, pred)}\")\n",
    "print(f\"MSE: {mean_squared_error(y_test, pred)}\")"
   ]
  }
 ],
 "metadata": {
  "kernelspec": {
   "display_name": "DataChallenge2023",
   "language": "python",
   "name": "python3"
  },
  "language_info": {
   "codemirror_mode": {
    "name": "ipython",
    "version": 3
   },
   "file_extension": ".py",
   "mimetype": "text/x-python",
   "name": "python",
   "nbconvert_exporter": "python",
   "pygments_lexer": "ipython3",
   "version": "3.11.7"
  }
 },
 "nbformat": 4,
 "nbformat_minor": 2
}
