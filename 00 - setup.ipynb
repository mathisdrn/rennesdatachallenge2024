{
 "cells": [
  {
   "cell_type": "markdown",
   "metadata": {},
   "source": [
    "## Rennes Data Challenge 2023\n",
    "\n",
    "Mathis Derenne - Arshia xx - Odilon xx\n",
    "\n",
    "---"
   ]
  },
  {
   "cell_type": "markdown",
   "metadata": {},
   "source": [
    "## Python Environment Setup"
   ]
  },
  {
   "cell_type": "code",
   "execution_count": null,
   "metadata": {},
   "outputs": [],
   "source": [
    "import platform, os, sys\n",
    "\n",
    "print(f\"Platform : {platform.system()}\")\n",
    "print(f\"Arch : {platform.machine()}\")\n",
    "print(f\"Current virtual environment : {os.environ.get('VIRTUAL_ENV')}\")\n",
    "\n",
    "print(\"Shell virtual environment :\")\n",
    "!python -c \"import sys; print(sys.prefix)\""
   ]
  },
  {
   "cell_type": "markdown",
   "metadata": {},
   "source": [
    "### Install TA-Lib dependencies"
   ]
  },
  {
   "cell_type": "code",
   "execution_count": null,
   "metadata": {},
   "outputs": [],
   "source": [
    "if platform.system() == \"Darwin\":\n",
    "    # if apple silicon\n",
    "    if platform.machine() == \"arm64\":\n",
    "        !arch -arm64 brew install ta-lib\n",
    "    else:\n",
    "        !brew install ta-lib\n",
    "    \n",
    "    !export TA_INCLUDE_PATH=\"$(brew --prefix ta-lib)/include\"\n",
    "    !export TA_LIBRARY_PATH=\"$(brew --prefix ta-lib)/lib\"\n",
    "\n",
    "else:\n",
    "    print(\"Please refer to instructions at : https://pypi.org/project/TA-Lib/\")"
   ]
  },
  {
   "cell_type": "markdown",
   "metadata": {},
   "source": [
    "### Virtual environment"
   ]
  },
  {
   "cell_type": "markdown",
   "metadata": {},
   "source": [
    "#### Windows :"
   ]
  },
  {
   "cell_type": "code",
   "execution_count": null,
   "metadata": {},
   "outputs": [],
   "source": [
    "%%bash \n",
    "python3.11 -m venv DataChallenge2023\n",
    "DataChallenge2023\\Scripts\\activate.bat\n",
    "# Check if virtual environment is activated\n",
    "python -c \"import sys; print(sys.prefix)\"\n",
    "python -m pip install -U pip\n",
    "pip install -r requirements.txt"
   ]
  },
  {
   "cell_type": "markdown",
   "metadata": {},
   "source": [
    "#### MacOS (haven't been tested on Linux) :"
   ]
  },
  {
   "cell_type": "markdown",
   "metadata": {},
   "source": [
    "##### X-Code"
   ]
  },
  {
   "cell_type": "code",
   "execution_count": null,
   "metadata": {},
   "outputs": [],
   "source": [
    "try:\n",
    "    !xcode-select --version\n",
    "except:\n",
    "    print(\"Please install XCode in your terminal using : xcode-select --install\")"
   ]
  },
  {
   "cell_type": "code",
   "execution_count": null,
   "metadata": {},
   "outputs": [],
   "source": [
    "%%bash \n",
    "# brew install python@3.11\n",
    "python3.11 -m venv DataChallenge2023\n",
    "source DataChallenge2023/bin/activate\n",
    "python -c \"import sys; print(sys.prefix)\"\n",
    "python -m pip install -U pip\n",
    "python -m pip install -r requirements.txt\n",
    "# To improve streamlit performance\n",
    "python -m pip install watchdog\n",
    "# To install lightgbm dependancies\n",
    "brew install libomp\n",
    "# Check if apple silicon in bash command\n",
    "if [[ $(uname -m) == \"arm64\" ]]; then\n",
    "    python -m pip install tensorflow-macos\n",
    "    python -m pip install tensorflow-metal\n",
    "fi"
   ]
  },
  {
   "cell_type": "markdown",
   "metadata": {},
   "source": [
    "For all users (select newly created kernel) :"
   ]
  },
  {
   "cell_type": "code",
   "execution_count": null,
   "metadata": {},
   "outputs": [],
   "source": [
    "from autoviz.AutoViz_Class import AutoViz_Class\n",
    "import pandas as pd\n",
    "import numpy as np\n",
    "\n",
    "df = pd.DataFrame(np.random.randn(100, 3), columns=['a', 'b', 'c'])\n",
    "AV = AutoViz_Class()\n",
    "AV.AutoViz(df)"
   ]
  }
 ],
 "metadata": {
  "kernelspec": {
   "display_name": "Python 3",
   "language": "python",
   "name": "python3"
  },
  "language_info": {
   "codemirror_mode": {
    "name": "ipython",
    "version": 3
   },
   "file_extension": ".py",
   "mimetype": "text/x-python",
   "name": "python",
   "nbconvert_exporter": "python",
   "pygments_lexer": "ipython3",
   "version": "3.9.13"
  }
 },
 "nbformat": 4,
 "nbformat_minor": 2
}
