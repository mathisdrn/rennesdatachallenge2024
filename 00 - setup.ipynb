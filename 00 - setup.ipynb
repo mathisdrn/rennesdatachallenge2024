{
 "cells": [
  {
   "cell_type": "markdown",
   "metadata": {},
   "source": [
    "## Rennes Data Challenge 2023\n",
    "\n",
    "Mathis Derenne\n",
    "\n",
    "---"
   ]
  },
  {
   "cell_type": "markdown",
   "metadata": {},
   "source": [
    "## Python Environment Setup"
   ]
  },
  {
   "cell_type": "code",
   "execution_count": null,
   "metadata": {},
   "outputs": [],
   "source": [
    "import platform, os, sys\n",
    "\n",
    "print(f\"Platform : {platform.system()}\")\n",
    "print(f\"Arch : {platform.machine()}\")\n",
    "print(f\"Current virtual environment : {os.environ.get('VIRTUAL_ENV')}\")\n",
    "\n",
    "print(\"Shell virtual environment :\")\n",
    "!python -c \"import sys; print(sys.prefix)\""
   ]
  },
  {
   "cell_type": "markdown",
   "metadata": {},
   "source": [
    "### Virtual environment"
   ]
  },
  {
   "cell_type": "markdown",
   "metadata": {},
   "source": [
    "#### Windows :"
   ]
  },
  {
   "cell_type": "code",
   "execution_count": null,
   "metadata": {},
   "outputs": [],
   "source": [
    "%%bash \n",
    "python3.11 -m venv DataChallenge2023\n",
    "DataChallenge2023\\Scripts\\activate.bat\n",
    "# Check if virtual environment is activated\n",
    "python -c \"import sys; print(sys.prefix)\"\n",
    "python -m pip install -U pip\n",
    "pip install -r requirements.txt"
   ]
  },
  {
   "cell_type": "markdown",
   "metadata": {},
   "source": [
    "#### MacOS"
   ]
  },
  {
   "cell_type": "markdown",
   "metadata": {},
   "source": [
    "##### X-Code"
   ]
  },
  {
   "cell_type": "code",
   "execution_count": null,
   "metadata": {},
   "outputs": [],
   "source": [
    "try:\n",
    "    !xcode-select --version\n",
    "except:\n",
    "    print(\"Please install XCode in your terminal using : xcode-select --install\")"
   ]
  },
  {
   "cell_type": "code",
   "execution_count": null,
   "metadata": {},
   "outputs": [],
   "source": [
    "%%bash \n",
    "# brew install python@3.11\n",
    "python3.11 -m venv DataChallenge2023\n",
    "source DataChallenge2023/bin/activate\n",
    "python -c \"import sys; print(sys.prefix)\"\n",
    "python -m pip install -U pip\n",
    "python -m pip install -r requirements.txt\n",
    "# Check if apple silicon in bash command\n",
    "if [[ $(uname -m) == \"arm64\" ]]; then\n",
    "    python -m pip install tensorflow-macos\n",
    "    python -m pip install tensorflow-metal\n",
    "fi"
   ]
  }
 ],
 "metadata": {
  "kernelspec": {
   "display_name": "Python 3",
   "language": "python",
   "name": "python3"
  },
  "language_info": {
   "codemirror_mode": {
    "name": "ipython",
    "version": 3
   },
   "file_extension": ".py",
   "mimetype": "text/x-python",
   "name": "python",
   "nbconvert_exporter": "python",
   "pygments_lexer": "ipython3",
   "version": "3.11.7"
  }
 },
 "nbformat": 4,
 "nbformat_minor": 2
}
