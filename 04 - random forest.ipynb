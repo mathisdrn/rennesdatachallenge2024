{
 "cells": [
  {
   "cell_type": "markdown",
   "metadata": {},
   "source": [
    "## Rennes Data Challenge 2023 \n",
    "\n",
    "Mathis Derenne\n",
    "\n",
    "---\n",
    "\n",
    "### Random Forest Model\n",
    "\n",
    "We will train a Random Forest Regressor that uses previous values and exogenous variable to predict Close_BTC values.\n",
    "\n",
    "We will implement a preprocessing pipeline as follows :\n",
    "- Impute missing values\n",
    "- Scale the data using RobustScaler\n",
    "- Apply PCA to reduce the dimensionality\n"
   ]
  },
  {
   "cell_type": "code",
   "execution_count": 31,
   "metadata": {},
   "outputs": [],
   "source": [
    "import pandas as pd\n",
    "import numpy as np\n",
    "from utils import load_data, validation_split\n",
    "import warnings\n",
    "warnings.simplefilter('ignore')"
   ]
  },
  {
   "cell_type": "code",
   "execution_count": 32,
   "metadata": {},
   "outputs": [
    {
     "data": {
      "text/plain": [
       "((1313, 199), (1313,), (148, 199), (148,))"
      ]
     },
     "execution_count": 32,
     "metadata": {},
     "output_type": "execute_result"
    }
   ],
   "source": [
    "X, y = load_data()\n",
    "\n",
    "X_train = X[X.index < validation_split]\n",
    "X_test = X[X.index >= validation_split]\n",
    "y_train = y[y.index < validation_split]\n",
    "y_test = y[y.index >= validation_split]\n",
    "\n",
    "X_train.shape, y_train.shape, X_test.shape, y_test.shape"
   ]
  },
  {
   "cell_type": "markdown",
   "metadata": {},
   "source": [
    "### Preprocessing"
   ]
  },
  {
   "cell_type": "markdown",
   "metadata": {},
   "source": [
    "#### Numeric preprocessing"
   ]
  },
  {
   "cell_type": "code",
   "execution_count": 33,
   "metadata": {},
   "outputs": [],
   "source": [
    "from sklearn.pipeline import Pipeline\n",
    "from sklearn.compose import ColumnTransformer\n",
    "from sklearn.impute import KNNImputer\n",
    "from sklearn.preprocessing import StandardScaler, RobustScaler\n",
    "from sklearn.decomposition import PCA\n",
    "\n",
    "numeric_features = X.select_dtypes(include=[np.number]).columns.tolist()\n",
    "\n",
    "numeric_transformer = Pipeline(steps=[\n",
    "    ('imputer', KNNImputer(n_neighbors=5)),\n",
    "    ('scaler', RobustScaler()),\n",
    "    ('pca', PCA(n_components=0.7, svd_solver='full'))])\n",
    "\n",
    "preprocessor = ColumnTransformer(\n",
    "    transformers=[\n",
    "        ('num', numeric_transformer, numeric_features),\n",
    "    ])"
   ]
  },
  {
   "cell_type": "markdown",
   "metadata": {},
   "source": [
    "### RandomForestRegressor"
   ]
  },
  {
   "cell_type": "code",
   "execution_count": 34,
   "metadata": {},
   "outputs": [
    {
     "data": {
      "application/vnd.jupyter.widget-view+json": {
       "model_id": "a9b8b9a60778433abd247056e802848d",
       "version_major": 2,
       "version_minor": 0
      },
      "text/plain": [
       "  0%|          | 0/148 [00:00<?, ?it/s]"
      ]
     },
     "metadata": {},
     "output_type": "display_data"
    },
    {
     "name": "stderr",
     "output_type": "stream",
     "text": [
      "/Users/mathisderenne/GitHub/00 - Inactive/rennesdatachallenge/DataChallenge2023/lib/python3.11/site-packages/skforecast/utils/utils.py:660: MissingValuesExogWarning: `exog` has missing values. Most of machine learning models do not allow missing values. `predict` method may fail. \n",
      " You can suppress this warning using: warnings.simplefilter('ignore', category=MissingValuesExogWarning)\n",
      "  warnings.warn(\n",
      "/Users/mathisderenne/GitHub/00 - Inactive/rennesdatachallenge/DataChallenge2023/lib/python3.11/site-packages/skforecast/utils/utils.py:660: MissingValuesExogWarning: `exog` has missing values. Most of machine learning models do not allow missing values. `predict` method may fail. \n",
      " You can suppress this warning using: warnings.simplefilter('ignore', category=MissingValuesExogWarning)\n",
      "  warnings.warn(\n",
      "/Users/mathisderenne/GitHub/00 - Inactive/rennesdatachallenge/DataChallenge2023/lib/python3.11/site-packages/skforecast/utils/utils.py:660: MissingValuesExogWarning: `exog` has missing values. Most of machine learning models do not allow missing values. `predict` method may fail. \n",
      " You can suppress this warning using: warnings.simplefilter('ignore', category=MissingValuesExogWarning)\n",
      "  warnings.warn(\n",
      "/Users/mathisderenne/GitHub/00 - Inactive/rennesdatachallenge/DataChallenge2023/lib/python3.11/site-packages/skforecast/utils/utils.py:660: MissingValuesExogWarning: `exog` has missing values. Most of machine learning models do not allow missing values. `predict` method may fail. \n",
      " You can suppress this warning using: warnings.simplefilter('ignore', category=MissingValuesExogWarning)\n",
      "  warnings.warn(\n",
      "/Users/mathisderenne/GitHub/00 - Inactive/rennesdatachallenge/DataChallenge2023/lib/python3.11/site-packages/skforecast/utils/utils.py:660: MissingValuesExogWarning: `exog` has missing values. Most of machine learning models do not allow missing values. `predict` method may fail. \n",
      " You can suppress this warning using: warnings.simplefilter('ignore', category=MissingValuesExogWarning)\n",
      "  warnings.warn(\n",
      "/Users/mathisderenne/GitHub/00 - Inactive/rennesdatachallenge/DataChallenge2023/lib/python3.11/site-packages/skforecast/utils/utils.py:660: MissingValuesExogWarning: `exog` has missing values. Most of machine learning models do not allow missing values. `predict` method may fail. \n",
      " You can suppress this warning using: warnings.simplefilter('ignore', category=MissingValuesExogWarning)\n",
      "  warnings.warn(\n",
      "/Users/mathisderenne/GitHub/00 - Inactive/rennesdatachallenge/DataChallenge2023/lib/python3.11/site-packages/skforecast/utils/utils.py:660: MissingValuesExogWarning: `exog` has missing values. Most of machine learning models do not allow missing values. `predict` method may fail. \n",
      " You can suppress this warning using: warnings.simplefilter('ignore', category=MissingValuesExogWarning)\n",
      "  warnings.warn(\n",
      "/Users/mathisderenne/GitHub/00 - Inactive/rennesdatachallenge/DataChallenge2023/lib/python3.11/site-packages/skforecast/utils/utils.py:660: MissingValuesExogWarning: `exog` has missing values. Most of machine learning models do not allow missing values. `predict` method may fail. \n",
      " You can suppress this warning using: warnings.simplefilter('ignore', category=MissingValuesExogWarning)\n",
      "  warnings.warn(\n",
      "/Users/mathisderenne/GitHub/00 - Inactive/rennesdatachallenge/DataChallenge2023/lib/python3.11/site-packages/skforecast/utils/utils.py:660: MissingValuesExogWarning: `exog` has missing values. Most of machine learning models do not allow missing values. `predict` method may fail. \n",
      " You can suppress this warning using: warnings.simplefilter('ignore', category=MissingValuesExogWarning)\n",
      "  warnings.warn(\n",
      "/Users/mathisderenne/GitHub/00 - Inactive/rennesdatachallenge/DataChallenge2023/lib/python3.11/site-packages/skforecast/utils/utils.py:660: MissingValuesExogWarning: `exog` has missing values. Most of machine learning models do not allow missing values. `predict` method may fail. \n",
      " You can suppress this warning using: warnings.simplefilter('ignore', category=MissingValuesExogWarning)\n",
      "  warnings.warn(\n",
      "/Users/mathisderenne/GitHub/00 - Inactive/rennesdatachallenge/DataChallenge2023/lib/python3.11/site-packages/skforecast/utils/utils.py:660: MissingValuesExogWarning: `exog` has missing values. Most of machine learning models do not allow missing values. `predict` method may fail. \n",
      " You can suppress this warning using: warnings.simplefilter('ignore', category=MissingValuesExogWarning)\n",
      "  warnings.warn(\n",
      "/Users/mathisderenne/GitHub/00 - Inactive/rennesdatachallenge/DataChallenge2023/lib/python3.11/site-packages/skforecast/utils/utils.py:660: MissingValuesExogWarning: `exog` has missing values. Most of machine learning models do not allow missing values. `predict` method may fail. \n",
      " You can suppress this warning using: warnings.simplefilter('ignore', category=MissingValuesExogWarning)\n",
      "  warnings.warn(\n",
      "/Users/mathisderenne/GitHub/00 - Inactive/rennesdatachallenge/DataChallenge2023/lib/python3.11/site-packages/skforecast/utils/utils.py:660: MissingValuesExogWarning: `exog` has missing values. Most of machine learning models do not allow missing values. `predict` method may fail. \n",
      " You can suppress this warning using: warnings.simplefilter('ignore', category=MissingValuesExogWarning)\n",
      "  warnings.warn(\n",
      "/Users/mathisderenne/GitHub/00 - Inactive/rennesdatachallenge/DataChallenge2023/lib/python3.11/site-packages/skforecast/utils/utils.py:660: MissingValuesExogWarning: `exog` has missing values. Most of machine learning models do not allow missing values. `predict` method may fail. \n",
      " You can suppress this warning using: warnings.simplefilter('ignore', category=MissingValuesExogWarning)\n",
      "  warnings.warn(\n",
      "/Users/mathisderenne/GitHub/00 - Inactive/rennesdatachallenge/DataChallenge2023/lib/python3.11/site-packages/skforecast/utils/utils.py:660: MissingValuesExogWarning: `exog` has missing values. Most of machine learning models do not allow missing values. `predict` method may fail. \n",
      " You can suppress this warning using: warnings.simplefilter('ignore', category=MissingValuesExogWarning)\n",
      "  warnings.warn(\n",
      "/Users/mathisderenne/GitHub/00 - Inactive/rennesdatachallenge/DataChallenge2023/lib/python3.11/site-packages/skforecast/utils/utils.py:660: MissingValuesExogWarning: `exog` has missing values. Most of machine learning models do not allow missing values. `predict` method may fail. \n",
      " You can suppress this warning using: warnings.simplefilter('ignore', category=MissingValuesExogWarning)\n",
      "  warnings.warn(\n",
      "/Users/mathisderenne/GitHub/00 - Inactive/rennesdatachallenge/DataChallenge2023/lib/python3.11/site-packages/skforecast/utils/utils.py:660: MissingValuesExogWarning: `exog` has missing values. Most of machine learning models do not allow missing values. `predict` method may fail. \n",
      " You can suppress this warning using: warnings.simplefilter('ignore', category=MissingValuesExogWarning)\n",
      "  warnings.warn(\n",
      "/Users/mathisderenne/GitHub/00 - Inactive/rennesdatachallenge/DataChallenge2023/lib/python3.11/site-packages/skforecast/utils/utils.py:660: MissingValuesExogWarning: `exog` has missing values. Most of machine learning models do not allow missing values. `predict` method may fail. \n",
      " You can suppress this warning using: warnings.simplefilter('ignore', category=MissingValuesExogWarning)\n",
      "  warnings.warn(\n",
      "/Users/mathisderenne/GitHub/00 - Inactive/rennesdatachallenge/DataChallenge2023/lib/python3.11/site-packages/skforecast/utils/utils.py:660: MissingValuesExogWarning: `exog` has missing values. Most of machine learning models do not allow missing values. `predict` method may fail. \n",
      " You can suppress this warning using: warnings.simplefilter('ignore', category=MissingValuesExogWarning)\n",
      "  warnings.warn(\n",
      "/Users/mathisderenne/GitHub/00 - Inactive/rennesdatachallenge/DataChallenge2023/lib/python3.11/site-packages/skforecast/utils/utils.py:660: MissingValuesExogWarning: `exog` has missing values. Most of machine learning models do not allow missing values. `predict` method may fail. \n",
      " You can suppress this warning using: warnings.simplefilter('ignore', category=MissingValuesExogWarning)\n",
      "  warnings.warn(\n",
      "/Users/mathisderenne/GitHub/00 - Inactive/rennesdatachallenge/DataChallenge2023/lib/python3.11/site-packages/skforecast/utils/utils.py:660: MissingValuesExogWarning: `exog` has missing values. Most of machine learning models do not allow missing values. `predict` method may fail. \n",
      " You can suppress this warning using: warnings.simplefilter('ignore', category=MissingValuesExogWarning)\n",
      "  warnings.warn(\n",
      "/Users/mathisderenne/GitHub/00 - Inactive/rennesdatachallenge/DataChallenge2023/lib/python3.11/site-packages/skforecast/utils/utils.py:660: MissingValuesExogWarning: `exog` has missing values. Most of machine learning models do not allow missing values. `predict` method may fail. \n",
      " You can suppress this warning using: warnings.simplefilter('ignore', category=MissingValuesExogWarning)\n",
      "  warnings.warn(\n",
      "/Users/mathisderenne/GitHub/00 - Inactive/rennesdatachallenge/DataChallenge2023/lib/python3.11/site-packages/skforecast/utils/utils.py:660: MissingValuesExogWarning: `exog` has missing values. Most of machine learning models do not allow missing values. `predict` method may fail. \n",
      " You can suppress this warning using: warnings.simplefilter('ignore', category=MissingValuesExogWarning)\n",
      "  warnings.warn(\n",
      "/Users/mathisderenne/GitHub/00 - Inactive/rennesdatachallenge/DataChallenge2023/lib/python3.11/site-packages/skforecast/utils/utils.py:660: MissingValuesExogWarning: `exog` has missing values. Most of machine learning models do not allow missing values. `predict` method may fail. \n",
      " You can suppress this warning using: warnings.simplefilter('ignore', category=MissingValuesExogWarning)\n",
      "  warnings.warn(\n",
      "/Users/mathisderenne/GitHub/00 - Inactive/rennesdatachallenge/DataChallenge2023/lib/python3.11/site-packages/skforecast/utils/utils.py:660: MissingValuesExogWarning: `exog` has missing values. Most of machine learning models do not allow missing values. `predict` method may fail. \n",
      " You can suppress this warning using: warnings.simplefilter('ignore', category=MissingValuesExogWarning)\n",
      "  warnings.warn(\n",
      "/Users/mathisderenne/GitHub/00 - Inactive/rennesdatachallenge/DataChallenge2023/lib/python3.11/site-packages/skforecast/utils/utils.py:660: MissingValuesExogWarning: `exog` has missing values. Most of machine learning models do not allow missing values. `predict` method may fail. \n",
      " You can suppress this warning using: warnings.simplefilter('ignore', category=MissingValuesExogWarning)\n",
      "  warnings.warn(\n",
      "/Users/mathisderenne/GitHub/00 - Inactive/rennesdatachallenge/DataChallenge2023/lib/python3.11/site-packages/skforecast/utils/utils.py:660: MissingValuesExogWarning: `exog` has missing values. Most of machine learning models do not allow missing values. `predict` method may fail. \n",
      " You can suppress this warning using: warnings.simplefilter('ignore', category=MissingValuesExogWarning)\n",
      "  warnings.warn(\n",
      "/Users/mathisderenne/GitHub/00 - Inactive/rennesdatachallenge/DataChallenge2023/lib/python3.11/site-packages/skforecast/utils/utils.py:660: MissingValuesExogWarning: `exog` has missing values. Most of machine learning models do not allow missing values. `predict` method may fail. \n",
      " You can suppress this warning using: warnings.simplefilter('ignore', category=MissingValuesExogWarning)\n",
      "  warnings.warn(\n",
      "/Users/mathisderenne/GitHub/00 - Inactive/rennesdatachallenge/DataChallenge2023/lib/python3.11/site-packages/skforecast/utils/utils.py:660: MissingValuesExogWarning: `exog` has missing values. Most of machine learning models do not allow missing values. `predict` method may fail. \n",
      " You can suppress this warning using: warnings.simplefilter('ignore', category=MissingValuesExogWarning)\n",
      "  warnings.warn(\n",
      "/Users/mathisderenne/GitHub/00 - Inactive/rennesdatachallenge/DataChallenge2023/lib/python3.11/site-packages/skforecast/utils/utils.py:660: MissingValuesExogWarning: `exog` has missing values. Most of machine learning models do not allow missing values. `predict` method may fail. \n",
      " You can suppress this warning using: warnings.simplefilter('ignore', category=MissingValuesExogWarning)\n",
      "  warnings.warn(\n",
      "/Users/mathisderenne/GitHub/00 - Inactive/rennesdatachallenge/DataChallenge2023/lib/python3.11/site-packages/skforecast/utils/utils.py:660: MissingValuesExogWarning: `exog` has missing values. Most of machine learning models do not allow missing values. `predict` method may fail. \n",
      " You can suppress this warning using: warnings.simplefilter('ignore', category=MissingValuesExogWarning)\n",
      "  warnings.warn(\n",
      "/Users/mathisderenne/GitHub/00 - Inactive/rennesdatachallenge/DataChallenge2023/lib/python3.11/site-packages/skforecast/utils/utils.py:660: MissingValuesExogWarning: `exog` has missing values. Most of machine learning models do not allow missing values. `predict` method may fail. \n",
      " You can suppress this warning using: warnings.simplefilter('ignore', category=MissingValuesExogWarning)\n",
      "  warnings.warn(\n",
      "/Users/mathisderenne/GitHub/00 - Inactive/rennesdatachallenge/DataChallenge2023/lib/python3.11/site-packages/skforecast/utils/utils.py:660: MissingValuesExogWarning: `exog` has missing values. Most of machine learning models do not allow missing values. `predict` method may fail. \n",
      " You can suppress this warning using: warnings.simplefilter('ignore', category=MissingValuesExogWarning)\n",
      "  warnings.warn(\n",
      "/Users/mathisderenne/GitHub/00 - Inactive/rennesdatachallenge/DataChallenge2023/lib/python3.11/site-packages/skforecast/utils/utils.py:660: MissingValuesExogWarning: `exog` has missing values. Most of machine learning models do not allow missing values. `predict` method may fail. \n",
      " You can suppress this warning using: warnings.simplefilter('ignore', category=MissingValuesExogWarning)\n",
      "  warnings.warn(\n",
      "/Users/mathisderenne/GitHub/00 - Inactive/rennesdatachallenge/DataChallenge2023/lib/python3.11/site-packages/skforecast/utils/utils.py:660: MissingValuesExogWarning: `exog` has missing values. Most of machine learning models do not allow missing values. `predict` method may fail. \n",
      " You can suppress this warning using: warnings.simplefilter('ignore', category=MissingValuesExogWarning)\n",
      "  warnings.warn(\n",
      "/Users/mathisderenne/GitHub/00 - Inactive/rennesdatachallenge/DataChallenge2023/lib/python3.11/site-packages/skforecast/utils/utils.py:660: MissingValuesExogWarning: `exog` has missing values. Most of machine learning models do not allow missing values. `predict` method may fail. \n",
      " You can suppress this warning using: warnings.simplefilter('ignore', category=MissingValuesExogWarning)\n",
      "  warnings.warn(\n",
      "/Users/mathisderenne/GitHub/00 - Inactive/rennesdatachallenge/DataChallenge2023/lib/python3.11/site-packages/skforecast/utils/utils.py:660: MissingValuesExogWarning: `exog` has missing values. Most of machine learning models do not allow missing values. `predict` method may fail. \n",
      " You can suppress this warning using: warnings.simplefilter('ignore', category=MissingValuesExogWarning)\n",
      "  warnings.warn(\n",
      "/Users/mathisderenne/GitHub/00 - Inactive/rennesdatachallenge/DataChallenge2023/lib/python3.11/site-packages/skforecast/utils/utils.py:660: MissingValuesExogWarning: `exog` has missing values. Most of machine learning models do not allow missing values. `predict` method may fail. \n",
      " You can suppress this warning using: warnings.simplefilter('ignore', category=MissingValuesExogWarning)\n",
      "  warnings.warn(\n",
      "/Users/mathisderenne/GitHub/00 - Inactive/rennesdatachallenge/DataChallenge2023/lib/python3.11/site-packages/skforecast/utils/utils.py:660: MissingValuesExogWarning: `exog` has missing values. Most of machine learning models do not allow missing values. `predict` method may fail. \n",
      " You can suppress this warning using: warnings.simplefilter('ignore', category=MissingValuesExogWarning)\n",
      "  warnings.warn(\n",
      "/Users/mathisderenne/GitHub/00 - Inactive/rennesdatachallenge/DataChallenge2023/lib/python3.11/site-packages/skforecast/utils/utils.py:660: MissingValuesExogWarning: `exog` has missing values. Most of machine learning models do not allow missing values. `predict` method may fail. \n",
      " You can suppress this warning using: warnings.simplefilter('ignore', category=MissingValuesExogWarning)\n",
      "  warnings.warn(\n",
      "/Users/mathisderenne/GitHub/00 - Inactive/rennesdatachallenge/DataChallenge2023/lib/python3.11/site-packages/skforecast/utils/utils.py:660: MissingValuesExogWarning: `exog` has missing values. Most of machine learning models do not allow missing values. `predict` method may fail. \n",
      " You can suppress this warning using: warnings.simplefilter('ignore', category=MissingValuesExogWarning)\n",
      "  warnings.warn(\n",
      "/Users/mathisderenne/GitHub/00 - Inactive/rennesdatachallenge/DataChallenge2023/lib/python3.11/site-packages/skforecast/utils/utils.py:660: MissingValuesExogWarning: `exog` has missing values. Most of machine learning models do not allow missing values. `predict` method may fail. \n",
      " You can suppress this warning using: warnings.simplefilter('ignore', category=MissingValuesExogWarning)\n",
      "  warnings.warn(\n",
      "/Users/mathisderenne/GitHub/00 - Inactive/rennesdatachallenge/DataChallenge2023/lib/python3.11/site-packages/skforecast/utils/utils.py:660: MissingValuesExogWarning: `exog` has missing values. Most of machine learning models do not allow missing values. `predict` method may fail. \n",
      " You can suppress this warning using: warnings.simplefilter('ignore', category=MissingValuesExogWarning)\n",
      "  warnings.warn(\n",
      "/Users/mathisderenne/GitHub/00 - Inactive/rennesdatachallenge/DataChallenge2023/lib/python3.11/site-packages/skforecast/utils/utils.py:660: MissingValuesExogWarning: `exog` has missing values. Most of machine learning models do not allow missing values. `predict` method may fail. \n",
      " You can suppress this warning using: warnings.simplefilter('ignore', category=MissingValuesExogWarning)\n",
      "  warnings.warn(\n",
      "/Users/mathisderenne/GitHub/00 - Inactive/rennesdatachallenge/DataChallenge2023/lib/python3.11/site-packages/skforecast/utils/utils.py:660: MissingValuesExogWarning: `exog` has missing values. Most of machine learning models do not allow missing values. `predict` method may fail. \n",
      " You can suppress this warning using: warnings.simplefilter('ignore', category=MissingValuesExogWarning)\n",
      "  warnings.warn(\n",
      "/Users/mathisderenne/GitHub/00 - Inactive/rennesdatachallenge/DataChallenge2023/lib/python3.11/site-packages/skforecast/utils/utils.py:660: MissingValuesExogWarning: `exog` has missing values. Most of machine learning models do not allow missing values. `predict` method may fail. \n",
      " You can suppress this warning using: warnings.simplefilter('ignore', category=MissingValuesExogWarning)\n",
      "  warnings.warn(\n",
      "/Users/mathisderenne/GitHub/00 - Inactive/rennesdatachallenge/DataChallenge2023/lib/python3.11/site-packages/skforecast/utils/utils.py:660: MissingValuesExogWarning: `exog` has missing values. Most of machine learning models do not allow missing values. `predict` method may fail. \n",
      " You can suppress this warning using: warnings.simplefilter('ignore', category=MissingValuesExogWarning)\n",
      "  warnings.warn(\n",
      "/Users/mathisderenne/GitHub/00 - Inactive/rennesdatachallenge/DataChallenge2023/lib/python3.11/site-packages/skforecast/utils/utils.py:660: MissingValuesExogWarning: `exog` has missing values. Most of machine learning models do not allow missing values. `predict` method may fail. \n",
      " You can suppress this warning using: warnings.simplefilter('ignore', category=MissingValuesExogWarning)\n",
      "  warnings.warn(\n",
      "/Users/mathisderenne/GitHub/00 - Inactive/rennesdatachallenge/DataChallenge2023/lib/python3.11/site-packages/skforecast/utils/utils.py:660: MissingValuesExogWarning: `exog` has missing values. Most of machine learning models do not allow missing values. `predict` method may fail. \n",
      " You can suppress this warning using: warnings.simplefilter('ignore', category=MissingValuesExogWarning)\n",
      "  warnings.warn(\n",
      "/Users/mathisderenne/GitHub/00 - Inactive/rennesdatachallenge/DataChallenge2023/lib/python3.11/site-packages/skforecast/utils/utils.py:660: MissingValuesExogWarning: `exog` has missing values. Most of machine learning models do not allow missing values. `predict` method may fail. \n",
      " You can suppress this warning using: warnings.simplefilter('ignore', category=MissingValuesExogWarning)\n",
      "  warnings.warn(\n",
      "/Users/mathisderenne/GitHub/00 - Inactive/rennesdatachallenge/DataChallenge2023/lib/python3.11/site-packages/skforecast/utils/utils.py:660: MissingValuesExogWarning: `exog` has missing values. Most of machine learning models do not allow missing values. `predict` method may fail. \n",
      " You can suppress this warning using: warnings.simplefilter('ignore', category=MissingValuesExogWarning)\n",
      "  warnings.warn(\n"
     ]
    }
   ],
   "source": [
    "from skforecast.ForecasterAutoreg import ForecasterAutoreg\n",
    "from sklearn.ensemble import RandomForestRegressor\n",
    "from skforecast.model_selection import backtesting_forecaster\n",
    "from skforecast.plot import plot_residuals\n",
    "\n",
    "forecaster = ForecasterAutoreg(\n",
    "    regressor = RandomForestRegressor(),\n",
    "    lags = 3,\n",
    "    transformer_exog = preprocessor\n",
    ")\n",
    "\n",
    "metric, y_pred = backtesting_forecaster(\n",
    "    forecaster            = forecaster,\n",
    "    y                     = y,\n",
    "    exog                  = X,\n",
    "    steps                 = 1,\n",
    "    metric                = 'mean_squared_error',\n",
    "    initial_train_size    = y_train.size,\n",
    "    fixed_train_size      = False,\n",
    "    gap                   = 0,\n",
    "    allow_incomplete_fold = True,\n",
    "    refit                 = True,\n",
    "    n_jobs                = 'auto',\n",
    "    verbose               = False,\n",
    "    show_progress         = True  \n",
    ")"
   ]
  },
  {
   "cell_type": "markdown",
   "metadata": {},
   "source": [
    "### Save the models predictions"
   ]
  },
  {
   "cell_type": "code",
   "execution_count": 35,
   "metadata": {},
   "outputs": [],
   "source": [
    "y_pred = y_pred.squeeze()\n",
    "y_pred.name = 'Close_BTC'\n",
    "y_pred.index.name = 'date'\n",
    "y_pred.to_csv('prediction/rfr_pred.csv')"
   ]
  }
 ],
 "metadata": {
  "kernelspec": {
   "display_name": "DataChallenge2023",
   "language": "python",
   "name": "python3"
  },
  "language_info": {
   "codemirror_mode": {
    "name": "ipython",
    "version": 3
   },
   "file_extension": ".py",
   "mimetype": "text/x-python",
   "name": "python",
   "nbconvert_exporter": "python",
   "pygments_lexer": "ipython3",
   "version": "3.11.7"
  }
 },
 "nbformat": 4,
 "nbformat_minor": 2
}
