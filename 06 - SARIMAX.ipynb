{
 "cells": [
  {
   "cell_type": "markdown",
   "metadata": {},
   "source": [
    "## Rennes Data Challenge 2023 \n",
    "\n",
    "Mathis Derenne\n",
    "\n",
    "---\n",
    "\n",
    "### SARIMAX Model\n",
    "\n",
    "We will train a SARIMAX model that uses previous values and exogenous variable to predict Close_BTC values.\n",
    "\n",
    "We will implement a preprocessing pipeline as follows :\n",
    "- Impute missing values\n",
    "- Scale the data using RobustScaler\n",
    "- Apply PCA to reduce the dimensionality\n"
   ]
  },
  {
   "cell_type": "code",
   "execution_count": 21,
   "metadata": {},
   "outputs": [],
   "source": [
    "import pandas as pd\n",
    "import numpy as np\n",
    "from utils import load_data, validation_split\n",
    "import warnings\n",
    "warnings.filterwarnings('ignore')"
   ]
  },
  {
   "cell_type": "code",
   "execution_count": 22,
   "metadata": {},
   "outputs": [
    {
     "data": {
      "text/plain": [
       "((1313, 199), (1313,), (148, 199), (148,))"
      ]
     },
     "execution_count": 22,
     "metadata": {},
     "output_type": "execute_result"
    }
   ],
   "source": [
    "X, y = load_data()\n",
    "\n",
    "X_train = X[X.index < validation_split]\n",
    "X_test = X[X.index >= validation_split]\n",
    "y_train = y[y.index < validation_split]\n",
    "y_test = y[y.index >= validation_split]\n",
    "\n",
    "X_train.shape, y_train.shape, X_test.shape, y_test.shape"
   ]
  },
  {
   "cell_type": "markdown",
   "metadata": {},
   "source": [
    "### Preprocessing"
   ]
  },
  {
   "cell_type": "markdown",
   "metadata": {},
   "source": [
    "#### Numeric preprocessing"
   ]
  },
  {
   "cell_type": "code",
   "execution_count": 23,
   "metadata": {},
   "outputs": [],
   "source": [
    "from sklearn.pipeline import Pipeline\n",
    "from sklearn.compose import ColumnTransformer\n",
    "from sklearn.impute import KNNImputer\n",
    "from sklearn.preprocessing import RobustScaler\n",
    "from sklearn.decomposition import PCA\n",
    "\n",
    "numeric_features = X.select_dtypes(include=[np.number]).columns.tolist()\n",
    "\n",
    "numeric_transformer = Pipeline(steps=[\n",
    "    ('imputer', KNNImputer(n_neighbors=5)),\n",
    "    ('scaler', RobustScaler()),\n",
    "    ('pca', PCA(n_components=0.6, svd_solver='full'))])\n",
    "\n",
    "preprocessor = ColumnTransformer(\n",
    "    transformers=[\n",
    "        ('num', numeric_transformer, numeric_features),\n",
    "    ])"
   ]
  },
  {
   "cell_type": "markdown",
   "metadata": {},
   "source": [
    "### SARIMAX Model"
   ]
  },
  {
   "cell_type": "code",
   "execution_count": 24,
   "metadata": {},
   "outputs": [
    {
     "data": {
      "application/vnd.jupyter.widget-view+json": {
       "model_id": "74e251f3892d4e49b361eb7e13e95dcf",
       "version_major": 2,
       "version_minor": 0
      },
      "text/plain": [
       "  0%|          | 0/148 [00:00<?, ?it/s]"
      ]
     },
     "metadata": {},
     "output_type": "display_data"
    }
   ],
   "source": [
    "from skforecast.ForecasterSarimax import ForecasterSarimax\n",
    "from skforecast.model_selection_sarimax import backtesting_sarimax\n",
    "from skforecast.Sarimax import Sarimax\n",
    "from skforecast.model_selection import backtesting_forecaster\n",
    "\n",
    "forecaster = ForecasterSarimax(\n",
    "    regressor = Sarimax(order=(2, 1, 2), seasonal_order=(0, 0, 0, 0)),\n",
    "    transformer_exog = preprocessor\n",
    ")\n",
    "\n",
    "metric, y_pred = backtesting_sarimax(\n",
    "    forecaster = forecaster,\n",
    "    y = y,\n",
    "    exog = X,\n",
    "    steps = 1,\n",
    "    metric = 'mean_squared_error',\n",
    "    initial_train_size = y_train.size,\n",
    "    fixed_train_size = False,\n",
    "    refit = True,\n",
    ")"
   ]
  },
  {
   "cell_type": "markdown",
   "metadata": {},
   "source": [
    "### Save the models predictions"
   ]
  },
  {
   "cell_type": "code",
   "execution_count": null,
   "metadata": {},
   "outputs": [],
   "source": [
    "y_pred = y_pred.squeeze()\n",
    "y_pred.name = 'Close_BTC'\n",
    "y_pred.index.name = 'date'\n",
    "y_pred.to_csv('prediction/SARIMAX_pred.csv')"
   ]
  },
  {
   "cell_type": "code",
   "execution_count": null,
   "metadata": {},
   "outputs": [],
   "source": []
  }
 ],
 "metadata": {
  "kernelspec": {
   "display_name": "DataChallenge2023",
   "language": "python",
   "name": "python3"
  },
  "language_info": {
   "codemirror_mode": {
    "name": "ipython",
    "version": 3
   },
   "file_extension": ".py",
   "mimetype": "text/x-python",
   "name": "python",
   "nbconvert_exporter": "python",
   "pygments_lexer": "ipython3",
   "version": "3.11.7"
  }
 },
 "nbformat": 4,
 "nbformat_minor": 2
}
